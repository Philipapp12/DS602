{
 "cells": [
  {
   "cell_type": "markdown",
   "id": "f596baf6",
   "metadata": {},
   "source": [
    "# Week7 - Decision Tree HW\n",
    "\n",
    "* Do a quick EDA to understand your data and explain what you need for your pipeline.\n",
    "* Explain what metric would be appropriate for this task (1 sentence).\n",
    "* Explain your game plan\n",
    "* Create a preprocessing pipeline (without the model).\n",
    "\n",
    "* Train-test split\n",
    "* Create 2 new pipelines for the following 2 models and use preprocessing pipeline you created in the previous step\n",
    "    * a decison tree model https://scikit-learn.org/stable/modules/generated/sklearn.tree.DecisionTreeClassifier.html\n",
    "    * a random forest model https://scikit-learn.org/stable/modules/generated/sklearn.ensemble.RandomForestClassifier.html\n",
    "* Define params for GridSearchCV for both models\n",
    "* Evaluate the models\n",
    "\n",
    "* Explain findings"
   ]
  },
  {
   "cell_type": "code",
   "execution_count": 2,
   "id": "bacdfd11",
   "metadata": {},
   "outputs": [],
   "source": [
    "import pandas as pd\n",
    "import numpy as np\n",
    "import matplotlib.pyplot as plt\n",
    "import seaborn as sns\n",
    "import random\n",
    "from sklearn.ensemble import RandomForestClassifier\n",
    "from sklearn.tree import DecisionTreeClassifier\n",
    "from sklearn.model_selection import cross_validate\n",
    "from sklearn.pipeline import Pipeline, FeatureUnion\n",
    "from sklearn.compose import ColumnTransformer\n",
    "from sklearn.impute import SimpleImputer\n",
    "from sklearn.preprocessing import StandardScaler\n",
    "from sklearn.preprocessing import PolynomialFeatures\n",
    "from sklearn.preprocessing import OneHotEncoder, FunctionTransformer\n",
    "from sklearn.linear_model import LogisticRegression\n",
    "from sklearn.model_selection import GridSearchCV, StratifiedKFold\n",
    "%matplotlib inline\n",
    "import pandas as pd\n",
    "from sklearn.model_selection import train_test_split\n",
    "from sklearn.datasets import make_classification\n",
    "from sklearn.metrics import classification_report\n",
    "from sklearn.model_selection import RandomizedSearchCV\n"
   ]
  },
  {
   "cell_type": "code",
   "execution_count": 3,
   "id": "b8ef0874",
   "metadata": {},
   "outputs": [],
   "source": [
    "# DON'T CHANGE ANYTHING HERE....\n",
    "random.seed(42)\n",
    "def remove_values(df, cols, perc=0.001):\n",
    "    for i in cols:\n",
    "        mask = pd.Series(random.choices([0,1], weights=[perc, 1-perc], k=len(df[i])))\n",
    "        df[i] = [ x if i==1 else None for x, i in zip(df[i], mask)]\n",
    "\n",
    "def create_df(size=1000000):\n",
    "    from sklearn.datasets import make_classification\n",
    "\n",
    "    X, y = make_classification(\n",
    "        n_samples=size,\n",
    "        n_features=5,\n",
    "        n_informative=5,\n",
    "        n_redundant=0,\n",
    "        n_classes=2,\n",
    "        flip_y=0.2,\n",
    "        random_state=4\n",
    "    )\n",
    "    \n",
    "    df = pd.DataFrame(X)\n",
    "    df.columns = ['f1', 'f2', 'f3', 'f4', 'f5']\n",
    "    df.f1 = df.f1**2\n",
    "    df.f2 = df.f2**2\n",
    "    df.f3 = df.f3*1000\n",
    "    \n",
    "    flag = random.choices([True, False], weights=[0.65, 0.35], k=len(y))\n",
    "    f6 = ['A' if i == 0 else 'B' for i in y]\n",
    "    \n",
    "    f6 = [f if i else ('B' if f=='A' else 'A') for i,f in zip(flag, f6)]\n",
    "    df['f6'] = f6\n",
    "    \n",
    "    remove_values(df, df.columns, perc=0.05)\n",
    "    \n",
    "    return df, pd.Series(y)\n",
    "    \n",
    "X, y = create_df()"
   ]
  },
  {
   "cell_type": "code",
   "execution_count": 4,
   "id": "2a50e33e",
   "metadata": {},
   "outputs": [
    {
     "data": {
      "text/html": [
       "<div>\n",
       "<style scoped>\n",
       "    .dataframe tbody tr th:only-of-type {\n",
       "        vertical-align: middle;\n",
       "    }\n",
       "\n",
       "    .dataframe tbody tr th {\n",
       "        vertical-align: top;\n",
       "    }\n",
       "\n",
       "    .dataframe thead th {\n",
       "        text-align: right;\n",
       "    }\n",
       "</style>\n",
       "<table border=\"1\" class=\"dataframe\">\n",
       "  <thead>\n",
       "    <tr style=\"text-align: right;\">\n",
       "      <th></th>\n",
       "      <th>f1</th>\n",
       "      <th>f2</th>\n",
       "      <th>f3</th>\n",
       "      <th>f4</th>\n",
       "      <th>f5</th>\n",
       "      <th>f6</th>\n",
       "    </tr>\n",
       "  </thead>\n",
       "  <tbody>\n",
       "    <tr>\n",
       "      <th>0</th>\n",
       "      <td>3.083178</td>\n",
       "      <td>3.022878</td>\n",
       "      <td>1276.390696</td>\n",
       "      <td>-2.672085</td>\n",
       "      <td>1.085629</td>\n",
       "      <td>B</td>\n",
       "    </tr>\n",
       "    <tr>\n",
       "      <th>1</th>\n",
       "      <td>NaN</td>\n",
       "      <td>1.764094</td>\n",
       "      <td>-873.709051</td>\n",
       "      <td>2.084035</td>\n",
       "      <td>0.387268</td>\n",
       "      <td>A</td>\n",
       "    </tr>\n",
       "    <tr>\n",
       "      <th>2</th>\n",
       "      <td>8.663599</td>\n",
       "      <td>NaN</td>\n",
       "      <td>-563.461158</td>\n",
       "      <td>-0.044922</td>\n",
       "      <td>2.512673</td>\n",
       "      <td>A</td>\n",
       "    </tr>\n",
       "    <tr>\n",
       "      <th>3</th>\n",
       "      <td>NaN</td>\n",
       "      <td>3.899908</td>\n",
       "      <td>753.129656</td>\n",
       "      <td>1.565944</td>\n",
       "      <td>-3.771516</td>\n",
       "      <td>A</td>\n",
       "    </tr>\n",
       "    <tr>\n",
       "      <th>4</th>\n",
       "      <td>0.684772</td>\n",
       "      <td>22.623978</td>\n",
       "      <td>-392.739840</td>\n",
       "      <td>-0.136113</td>\n",
       "      <td>-2.028027</td>\n",
       "      <td>A</td>\n",
       "    </tr>\n",
       "  </tbody>\n",
       "</table>\n",
       "</div>"
      ],
      "text/plain": [
       "         f1         f2           f3        f4        f5 f6\n",
       "0  3.083178   3.022878  1276.390696 -2.672085  1.085629  B\n",
       "1       NaN   1.764094  -873.709051  2.084035  0.387268  A\n",
       "2  8.663599        NaN  -563.461158 -0.044922  2.512673  A\n",
       "3       NaN   3.899908   753.129656  1.565944 -3.771516  A\n",
       "4  0.684772  22.623978  -392.739840 -0.136113 -2.028027  A"
      ]
     },
     "execution_count": 4,
     "metadata": {},
     "output_type": "execute_result"
    }
   ],
   "source": [
    "# eda code\n",
    "X.head()"
   ]
  },
  {
   "cell_type": "code",
   "execution_count": null,
   "id": "c9a32bc8",
   "metadata": {},
   "outputs": [],
   "source": []
  },
  {
   "cell_type": "code",
   "execution_count": 6,
   "id": "3357e6c3",
   "metadata": {},
   "outputs": [
    {
     "data": {
      "text/plain": [
       "<Axes: >"
      ]
     },
     "execution_count": 6,
     "metadata": {},
     "output_type": "execute_result"
    },
    {
     "data": {
      "image/png": "[encoded data removed]",
      "text/plain": [
       "<Figure size 640x480 with 1 Axes>"
      ]
     },
     "metadata": {},
     "output_type": "display_data"
    }
   ],
   "source": [
    "y.hist()"
   ]
  },
  {
   "cell_type": "code",
   "execution_count": 7,
   "id": "dffc1885",
   "metadata": {
    "scrolled": true
   },
   "outputs": [
    {
     "data": {
      "text/plain": [
       "f1    50067\n",
       "f2    50116\n",
       "f3    50196\n",
       "f4    49556\n",
       "f5    49851\n",
       "f6    50017\n",
       "dtype: int64"
      ]
     },
     "execution_count": 7,
     "metadata": {},
     "output_type": "execute_result"
    }
   ],
   "source": [
    "X.isna().sum()"
   ]
  },
  {
   "cell_type": "markdown",
   "id": "1b58391b",
   "metadata": {},
   "source": [
    "Explainations...\n",
    "\n",
    "This result indicates how many values are missing in each of the features, with implications for data preprocessing steps. For example:\n",
    "If f4 has a missing count of 49,556 out of 1,000,000 total entries, that means that around 4.9% of the data in f4 is missing.\n",
    "Such analyses help in determining appropriate strategies for handling missing data, such as imputation or exclusion of certain features.\n"
   ]
  },
  {
   "cell_type": "markdown",
   "id": "667b8334",
   "metadata": {},
   "source": [
    "Explain your gameplan...\n",
    "\n",
    "To effectively implement a data processing pipeline, start by thoroughly inspecting the dataset to understand feature distributions, types (numerical and categorical), and the presence of missing values. Next, decide on a strategy for handling missing values, which may include imputation, removal, or utilizing algorithms capable of processing missing data. Feature engineering can then take place, allowing for the creation or modification of features based on insights from exploratory data analysis. Following this, convert categorical variables into numerical formats using techniques such as one-hot encoding or label encoding, and standardize or normalize numerical features to enhance model performance. \n",
    "\n",
    "After preparing the data, split the dataset into training and testing sets to assess model performance on unseen data. Leverage libraries like `scikit-learn` to create a comprehensive processing pipeline that encapsulates all the previous steps, culminating in the selection of an appropriate machine learning algorithm. Finally, train the model using the training dataset and evaluate its effectiveness on the test set using metrics like accuracy or F1 score, which will inform the model's reliability and overall performance."
   ]
  },
  {
   "cell_type": "code",
   "execution_count": null,
   "id": "3f992fe2-a1c0-489f-b595-e85f17a13b35",
   "metadata": {},
   "outputs": [],
   "source": []
  },
  {
   "cell_type": "code",
   "execution_count": 11,
   "id": "06947683-6435-4d1c-8d97-3a482320ce21",
   "metadata": {},
   "outputs": [],
   "source": [
    "df = X.copy()\n",
    "df['target'] = y"
   ]
  },
  {
   "cell_type": "code",
   "execution_count": 12,
   "id": "e59cf25e-6cef-458d-b85a-94a1b732ff65",
   "metadata": {},
   "outputs": [
    {
     "name": "stdout",
     "output_type": "stream",
     "text": [
      "Descriptive Statistics:\n",
      "                 f1            f2             f3             f4  \\\n",
      "count  9.499330e+05  9.498840e+05  949804.000000  950444.000000   \n",
      "mean   2.970269e+00  2.698242e+00       1.203865      -0.002337   \n",
      "std    4.223559e+00  3.863111e+00    1441.308642       1.682211   \n",
      "min    7.464873e-15  4.200556e-12   -6319.721066      -8.364699   \n",
      "25%    3.265102e-01  3.144912e-01   -1077.181298      -1.172712   \n",
      "50%    1.415231e+00  1.310581e+00    -403.563631       0.067817   \n",
      "75%    3.905995e+00  3.501739e+00    1009.950057       1.156616   \n",
      "max    9.069379e+01  8.512300e+01    7402.596849       9.717087   \n",
      "\n",
      "                  f5          target  \n",
      "count  950149.000000  1000000.000000  \n",
      "mean       -0.000394        0.499991  \n",
      "std         1.683646        0.500000  \n",
      "min        -7.067953        0.000000  \n",
      "25%        -1.186616        0.000000  \n",
      "50%         0.001923        0.000000  \n",
      "75%         1.152483        1.000000  \n",
      "max         8.354947        1.000000  \n"
     ]
    }
   ],
   "source": [
    "# Display descriptive statistics\n",
    "print(\"Descriptive Statistics:\")\n",
    "print(df[['f1', 'f2', 'f3', 'f4', 'f5', 'target']].describe())"
   ]
  },
  {
   "cell_type": "code",
   "execution_count": 13,
   "id": "e14520d4-013f-4927-9c80-24099b6f7bd1",
   "metadata": {},
   "outputs": [
    {
     "name": "stdout",
     "output_type": "stream",
     "text": [
      "Shape of the DataFrame: (1000000, 7)\n"
     ]
    }
   ],
   "source": [
    "# Check basic structure\n",
    "print(\"Shape of the DataFrame:\", df.shape)"
   ]
  },
  {
   "cell_type": "code",
   "execution_count": 14,
   "id": "d659abfa-85f1-4be7-8c0e-49cd5a171492",
   "metadata": {},
   "outputs": [
    {
     "name": "stdout",
     "output_type": "stream",
     "text": [
      "Data types:\n",
      " f1        float64\n",
      "f2        float64\n",
      "f3        float64\n",
      "f4        float64\n",
      "f5        float64\n",
      "f6         object\n",
      "target      int32\n",
      "dtype: object\n"
     ]
    }
   ],
   "source": [
    "print(\"Data types:\\n\", df.dtypes)"
   ]
  },
  {
   "cell_type": "code",
   "execution_count": 15,
   "id": "4ce0b6fe-f073-47f1-a7c3-b44e0ae72ccd",
   "metadata": {},
   "outputs": [
    {
     "name": "stdout",
     "output_type": "stream",
     "text": [
      "First few rows:\n",
      "          f1         f2           f3        f4        f5 f6  target\n",
      "0  3.083178   3.022878  1276.390696 -2.672085  1.085629  B       1\n",
      "1       NaN   1.764094  -873.709051  2.084035  0.387268  A       0\n",
      "2  8.663599        NaN  -563.461158 -0.044922  2.512673  A       0\n",
      "3       NaN   3.899908   753.129656  1.565944 -3.771516  A       0\n",
      "4  0.684772  22.623978  -392.739840 -0.136113 -2.028027  A       1\n"
     ]
    }
   ],
   "source": [
    "print(\"First few rows:\\n\", df.head())"
   ]
  },
  {
   "cell_type": "code",
   "execution_count": 16,
   "id": "09689bbb-a105-4783-9660-0cd3911ca09b",
   "metadata": {},
   "outputs": [
    {
     "name": "stdout",
     "output_type": "stream",
     "text": [
      "Target variable distribution:\n",
      " target\n",
      "0    0.500009\n",
      "1    0.499991\n",
      "Name: proportion, dtype: float64\n"
     ]
    },
    {
     "data": {
      "image/png": "[encoded data removed]",
      "text/plain": [
       "<Figure size 640x480 with 1 Axes>"
      ]
     },
     "metadata": {},
     "output_type": "display_data"
    }
   ],
   "source": [
    "#Examine the target variable\n",
    "print(\"Target variable distribution:\\n\", df['target'].value_counts(normalize=True))\n",
    "sns.countplot(x='target', data=df)\n",
    "plt.title('Target Variable Distribution')\n",
    "plt.show()"
   ]
  },
  {
   "cell_type": "code",
   "execution_count": null,
   "id": "088dcea7-1153-4eae-ae6a-7d7559a17743",
   "metadata": {},
   "outputs": [],
   "source": []
  },
  {
   "cell_type": "code",
   "execution_count": 18,
   "id": "4670ef73-1812-4ad1-bec3-884cc958d73d",
   "metadata": {},
   "outputs": [
    {
     "data": {
      "image/png": "[encoded data removed]",
      "text/plain": [
       "<Figure size 1500x1000 with 6 Axes>"
      ]
     },
     "metadata": {},
     "output_type": "display_data"
    }
   ],
   "source": [
    "#Inspect feature distributions\n",
    "df.drop(columns='target').hist(bins=30, figsize=(15, 10), layout=(2, 3))\n",
    "plt.suptitle('Feature Distributions')\n",
    "plt.show()"
   ]
  },
  {
   "cell_type": "code",
   "execution_count": null,
   "id": "9c717f74-81b2-46a1-8633-d9f9d8ba3bda",
   "metadata": {},
   "outputs": [],
   "source": []
  },
  {
   "cell_type": "code",
   "execution_count": 21,
   "id": "10516a1c-3bdf-40fa-a83e-bb47af439090",
   "metadata": {},
   "outputs": [
    {
     "data": {
      "image/png": "[encoded data removed]",
      "text/plain": [
       "<Figure size 800x400 with 1 Axes>"
      ]
     },
     "metadata": {},
     "output_type": "display_data"
    }
   ],
   "source": [
    "#Investigate class imbalance\n",
    "class_counts = df['target'].value_counts()\n",
    "plt.figure(figsize=(8, 4))\n",
    "sns.barplot(x=class_counts.index, y=class_counts.values)\n",
    "plt.title('Class Distribution')\n",
    "plt.xlabel('Class')\n",
    "plt.ylabel('Count')\n",
    "plt.xticks(ticks=class_counts.index)\n",
    "plt.show()"
   ]
  },
  {
   "cell_type": "code",
   "execution_count": null,
   "id": "4070f672-01f8-4530-9f07-14411234597f",
   "metadata": {},
   "outputs": [],
   "source": []
  },
  {
   "cell_type": "code",
   "execution_count": 23,
   "id": "5e9fe651-f8c3-42ee-bbb6-0ac879cbf713",
   "metadata": {},
   "outputs": [
    {
     "data": {
      "image/png": "[encoded data removed]",
      "text/plain": [
       "<Figure size 640x480 with 1 Axes>"
      ]
     },
     "metadata": {},
     "output_type": "display_data"
    },
    {
     "data": {
      "image/png": "[encoded data removed]",
      "text/plain": [
       "<Figure size 640x480 with 1 Axes>"
      ]
     },
     "metadata": {},
     "output_type": "display_data"
    },
    {
     "data": {
      "image/png": "[encoded data removed]",
      "text/plain": [
       "<Figure size 640x480 with 1 Axes>"
      ]
     },
     "metadata": {},
     "output_type": "display_data"
    },
    {
     "data": {
      "image/png": "[encoded data removed]",
      "text/plain": [
       "<Figure size 640x480 with 1 Axes>"
      ]
     },
     "metadata": {},
     "output_type": "display_data"
    },
    {
     "data": {
      "image/png": "[encoded data removed]",
      "text/plain": [
       "<Figure size 640x480 with 1 Axes>"
      ]
     },
     "metadata": {},
     "output_type": "display_data"
    }
   ],
   "source": [
    "# Filter numeric columns\n",
    "numeric_cols = df.select_dtypes(include='number').drop(columns='target').columns\n",
    "\n",
    "# Outlier detection using boxplots\n",
    "for col in numeric_cols:\n",
    "    plt.figure()\n",
    "    sns.boxplot(x=df[col])\n",
    "    plt.title(f'Boxplot of {col}')\n",
    "    plt.show()"
   ]
  },
  {
   "cell_type": "code",
   "execution_count": null,
   "id": "9fb0bfb5-3179-404d-8a14-dd39cb8ef24a",
   "metadata": {},
   "outputs": [],
   "source": []
  },
  {
   "cell_type": "code",
   "execution_count": 25,
   "id": "8e74df16-553b-4154-ac85-a63b94477574",
   "metadata": {},
   "outputs": [],
   "source": [
    "# Total rows in DataFrame\n",
    "df = pd.DataFrame(X)\n",
    "total_rows = df.shape[0]"
   ]
  },
  {
   "cell_type": "code",
   "execution_count": 26,
   "id": "d8ebe867-6005-4c54-904b-4e0eabc3f7d5",
   "metadata": {},
   "outputs": [],
   "source": [
    "# Imputation Method\n",
    "def impute_missing_values(df):\n",
    "    for column in df.columns:\n",
    "        if df[column].isna().sum() > 0:  # Check for missing values\n",
    "            if df[column].dtype in ['int64', 'float64']:  # Numeric\n",
    "                # Use median for imputation\n",
    "                df[column].fillna(df[column].median(), inplace=True)  # Can choose mean instead\n",
    "            else:  # Categorical\n",
    "                # Use mode for imputation\n",
    "                df[column].fillna(df[column].mode()[0], inplace=True)\n",
    "    return df"
   ]
  },
  {
   "cell_type": "code",
   "execution_count": 27,
   "id": "95fd536b-30ca-4c70-918e-750804f76d49",
   "metadata": {},
   "outputs": [],
   "source": [
    "# Apply imputation\n",
    "df = impute_missing_values(df)"
   ]
  },
  {
   "cell_type": "code",
   "execution_count": 28,
   "id": "8ddeade9-916c-4cfd-81bf-ad281194814e",
   "metadata": {},
   "outputs": [
    {
     "name": "stdout",
     "output_type": "stream",
     "text": [
      "f1    0\n",
      "f2    0\n",
      "f3    0\n",
      "f4    0\n",
      "f5    0\n",
      "f6    0\n",
      "dtype: int64\n"
     ]
    }
   ],
   "source": [
    "# Optionally, check the remaining missing values\n",
    "print(df.isna().sum())\n",
    "\n",
    "# Alternatively, let's say we decide to drop columns with more than a certain number of missing values\n",
    "threshold = total_rows * 0.10  # Drop if > 10% missing\n",
    "df.dropna(thresh=threshold, axis=1, inplace=True)  # Drop columns with missing values above threshold"
   ]
  },
  {
   "cell_type": "code",
   "execution_count": null,
   "id": "5630cbfa-ac13-4ec6-9776-c69a0c6701b7",
   "metadata": {},
   "outputs": [],
   "source": []
  },
  {
   "cell_type": "code",
   "execution_count": 30,
   "id": "99be78f5",
   "metadata": {},
   "outputs": [],
   "source": [
    "# create processing pipeline"
   ]
  },
  {
   "cell_type": "code",
   "execution_count": 31,
   "id": "6987743b-d059-4b06-b06b-1941c166125a",
   "metadata": {},
   "outputs": [],
   "source": [
    "# Create the full DataFrame and target variable\n",
    "X, y = create_df()\n",
    "\n",
    "# Sample a smaller subset for quick runs while keeping the full dataset still accessible\n",
    "X_sample = X.sample(n=10000, random_state=42)  # Sample 10,000 for quicker iterations\n",
    "y_sample = y.loc[X_sample.index]\n",
    "\n",
    "# Split the sample data into training and testing sets\n",
    "X_train, X_test, y_train, y_test = train_test_split(X_sample, y_sample, test_size=0.2, random_state=42)\n",
    "\n",
    "# Define the column types\n",
    "numerical_cols = ['f1', 'f2', 'f3', 'f4', 'f5']\n",
    "categorical_cols = ['f6']"
   ]
  },
  {
   "cell_type": "code",
   "execution_count": 32,
   "id": "bf247ce1-eb51-4f4b-968a-3f076e1e1bfb",
   "metadata": {
    "scrolled": true
   },
   "outputs": [
    {
     "name": "stdout",
     "output_type": "stream",
     "text": [
      "              precision    recall  f1-score   support\n",
      "\n",
      "           0       0.83      0.82      0.82      1025\n",
      "           1       0.81      0.82      0.81       975\n",
      "\n",
      "    accuracy                           0.82      2000\n",
      "   macro avg       0.82      0.82      0.82      2000\n",
      "weighted avg       0.82      0.82      0.82      2000\n",
      "\n"
     ]
    }
   ],
   "source": [
    "# Define the preprocessing steps\n",
    "numerical_pipeline = Pipeline(steps=[\n",
    "    ('imputer', SimpleImputer(strategy='mean')),  # Impute missing values with the mean\n",
    "    ('scaler', StandardScaler())  # Scale numerical features\n",
    "])\n",
    "\n",
    "categorical_pipeline = Pipeline(steps=[\n",
    "    ('imputer', SimpleImputer(strategy='most_frequent')),  # Impute missing values with the most frequent value\n",
    "    ('onehot', OneHotEncoder(handle_unknown='ignore'))  # One-hot encode categorical features\n",
    "])\n",
    "\n",
    "# Combine preprocessing steps\n",
    "preprocessor = ColumnTransformer(\n",
    "    transformers=[\n",
    "        ('num', numerical_pipeline, numerical_cols),   # Apply to numerical columns\n",
    "        ('cat', categorical_pipeline, categorical_cols)  # Apply to categorical columns\n",
    "    ]\n",
    ")\n",
    "\n",
    "# Create the complete pipeline with model\n",
    "pipeline = Pipeline(steps=[\n",
    "    ('preprocessor', preprocessor),  # Preprocess the data\n",
    "    ('classifier', RandomForestClassifier(n_estimators=50, random_state=42))  # Reduced trees for faster training\n",
    "])\n",
    "\n",
    "# Fit the model\n",
    "pipeline.fit(X_train, y_train)\n",
    "\n",
    "# Make predictions\n",
    "y_pred = pipeline.predict(X_test)\n",
    "\n",
    "# Evaluate the model\n",
    "print(classification_report(y_test, y_pred))"
   ]
  },
  {
   "cell_type": "code",
   "execution_count": null,
   "id": "84a84f01-6165-4c2c-b4a2-7fbf7e7d536b",
   "metadata": {},
   "outputs": [],
   "source": []
  },
  {
   "cell_type": "code",
   "execution_count": null,
   "id": "6ea2446d-2af9-41ae-a83c-3138d8ccf3aa",
   "metadata": {},
   "outputs": [],
   "source": []
  },
  {
   "cell_type": "markdown",
   "id": "501ec949",
   "metadata": {},
   "source": [
    "## HW"
   ]
  },
  {
   "cell_type": "code",
   "execution_count": 36,
   "id": "ffdc2788",
   "metadata": {},
   "outputs": [],
   "source": [
    "Xs = X[:10000]\n",
    "ys= y[:10000]"
   ]
  },
  {
   "cell_type": "code",
   "execution_count": 37,
   "id": "ad5d704e",
   "metadata": {},
   "outputs": [
    {
     "data": {
      "text/plain": [
       "<Axes: >"
      ]
     },
     "execution_count": 37,
     "metadata": {},
     "output_type": "execute_result"
    },
    {
     "data": {
      "image/png": "[encoded data removed]",
      "text/plain": [
       "<Figure size 640x480 with 1 Axes>"
      ]
     },
     "metadata": {},
     "output_type": "display_data"
    }
   ],
   "source": [
    "ys.hist()"
   ]
  },
  {
   "cell_type": "code",
   "execution_count": 38,
   "id": "3a2b503e-45c2-43fe-a81a-132818a7a873",
   "metadata": {},
   "outputs": [
    {
     "data": {
      "text/html": [
       "<style>#sk-container-id-1 {color: black;}#sk-container-id-1 pre{padding: 0;}#sk-container-id-1 div.sk-toggleable {background-color: white;}#sk-container-id-1 label.sk-toggleable__label {cursor: pointer;display: block;width: 100%;margin-bottom: 0;padding: 0.3em;box-sizing: border-box;text-align: center;}#sk-container-id-1 label.sk-toggleable__label-arrow:before {content: \"▸\";float: left;margin-right: 0.25em;color: #696969;}#sk-container-id-1 label.sk-toggleable__label-arrow:hover:before {color: black;}#sk-container-id-1 div.sk-estimator:hover label.sk-toggleable__label-arrow:before {color: black;}#sk-container-id-1 div.sk-toggleable__content {max-height: 0;max-width: 0;overflow: hidden;text-align: left;background-color: #f0f8ff;}#sk-container-id-1 div.sk-toggleable__content pre {margin: 0.2em;color: black;border-radius: 0.25em;background-color: #f0f8ff;}#sk-container-id-1 input.sk-toggleable__control:checked~div.sk-toggleable__content {max-height: 200px;max-width: 100%;overflow: auto;}#sk-container-id-1 input.sk-toggleable__control:checked~label.sk-toggleable__label-arrow:before {content: \"▾\";}#sk-container-id-1 div.sk-estimator input.sk-toggleable__control:checked~label.sk-toggleable__label {background-color: #d4ebff;}#sk-container-id-1 div.sk-label input.sk-toggleable__control:checked~label.sk-toggleable__label {background-color: #d4ebff;}#sk-container-id-1 input.sk-hidden--visually {border: 0;clip: rect(1px 1px 1px 1px);clip: rect(1px, 1px, 1px, 1px);height: 1px;margin: -1px;overflow: hidden;padding: 0;position: absolute;width: 1px;}#sk-container-id-1 div.sk-estimator {font-family: monospace;background-color: #f0f8ff;border: 1px dotted black;border-radius: 0.25em;box-sizing: border-box;margin-bottom: 0.5em;}#sk-container-id-1 div.sk-estimator:hover {background-color: #d4ebff;}#sk-container-id-1 div.sk-parallel-item::after {content: \"\";width: 100%;border-bottom: 1px solid gray;flex-grow: 1;}#sk-container-id-1 div.sk-label:hover label.sk-toggleable__label {background-color: #d4ebff;}#sk-container-id-1 div.sk-serial::before {content: \"\";position: absolute;border-left: 1px solid gray;box-sizing: border-box;top: 0;bottom: 0;left: 50%;z-index: 0;}#sk-container-id-1 div.sk-serial {display: flex;flex-direction: column;align-items: center;background-color: white;padding-right: 0.2em;padding-left: 0.2em;position: relative;}#sk-container-id-1 div.sk-item {position: relative;z-index: 1;}#sk-container-id-1 div.sk-parallel {display: flex;align-items: stretch;justify-content: center;background-color: white;position: relative;}#sk-container-id-1 div.sk-item::before, #sk-container-id-1 div.sk-parallel-item::before {content: \"\";position: absolute;border-left: 1px solid gray;box-sizing: border-box;top: 0;bottom: 0;left: 50%;z-index: -1;}#sk-container-id-1 div.sk-parallel-item {display: flex;flex-direction: column;z-index: 1;position: relative;background-color: white;}#sk-container-id-1 div.sk-parallel-item:first-child::after {align-self: flex-end;width: 50%;}#sk-container-id-1 div.sk-parallel-item:last-child::after {align-self: flex-start;width: 50%;}#sk-container-id-1 div.sk-parallel-item:only-child::after {width: 0;}#sk-container-id-1 div.sk-dashed-wrapped {border: 1px dashed gray;margin: 0 0.4em 0.5em 0.4em;box-sizing: border-box;padding-bottom: 0.4em;background-color: white;}#sk-container-id-1 div.sk-label label {font-family: monospace;font-weight: bold;display: inline-block;line-height: 1.2em;}#sk-container-id-1 div.sk-label-container {text-align: center;}#sk-container-id-1 div.sk-container {/* jupyter's `normalize.less` sets `[hidden] { display: none; }` but bootstrap.min.css set `[hidden] { display: none !important; }` so we also need the `!important` here to be able to override the default hidden behavior on the sphinx rendered scikit-learn.org. See: https://github.com/scikit-learn/scikit-learn/issues/21755 */display: inline-block !important;position: relative;}#sk-container-id-1 div.sk-text-repr-fallback {display: none;}</style><div id=\"sk-container-id-1\" class=\"sk-top-container\"><div class=\"sk-text-repr-fallback\"><pre>Pipeline(steps=[(&#x27;data_processing&#x27;,\n",
       "                 ColumnTransformer(transformers=[(&#x27;num&#x27;,\n",
       "                                                  Pipeline(steps=[(&#x27;imputer&#x27;,\n",
       "                                                                   SimpleImputer()),\n",
       "                                                                  (&#x27;scaler&#x27;,\n",
       "                                                                   StandardScaler())]),\n",
       "                                                  [&#x27;f1&#x27;, &#x27;f2&#x27;, &#x27;f3&#x27;, &#x27;f4&#x27;,\n",
       "                                                   &#x27;f5&#x27;]),\n",
       "                                                 (&#x27;cat&#x27;,\n",
       "                                                  Pipeline(steps=[(&#x27;imputer&#x27;,\n",
       "                                                                   SimpleImputer(strategy=&#x27;most_frequent&#x27;)),\n",
       "                                                                  (&#x27;onehot&#x27;,\n",
       "                                                                   OneHotEncoder(handle_unknown=&#x27;ignore&#x27;))]),\n",
       "                                                  [&#x27;f6&#x27;])])),\n",
       "                (&#x27;ml&#x27;, DecisionTreeClassifier())])</pre><b>In a Jupyter environment, please rerun this cell to show the HTML representation or trust the notebook. <br />On GitHub, the HTML representation is unable to render, please try loading this page with nbviewer.org.</b></div><div class=\"sk-container\" hidden><div class=\"sk-item sk-dashed-wrapped\"><div class=\"sk-label-container\"><div class=\"sk-label sk-toggleable\"><input class=\"sk-toggleable__control sk-hidden--visually\" id=\"sk-estimator-id-1\" type=\"checkbox\" ><label for=\"sk-estimator-id-1\" class=\"sk-toggleable__label sk-toggleable__label-arrow\">Pipeline</label><div class=\"sk-toggleable__content\"><pre>Pipeline(steps=[(&#x27;data_processing&#x27;,\n",
       "                 ColumnTransformer(transformers=[(&#x27;num&#x27;,\n",
       "                                                  Pipeline(steps=[(&#x27;imputer&#x27;,\n",
       "                                                                   SimpleImputer()),\n",
       "                                                                  (&#x27;scaler&#x27;,\n",
       "                                                                   StandardScaler())]),\n",
       "                                                  [&#x27;f1&#x27;, &#x27;f2&#x27;, &#x27;f3&#x27;, &#x27;f4&#x27;,\n",
       "                                                   &#x27;f5&#x27;]),\n",
       "                                                 (&#x27;cat&#x27;,\n",
       "                                                  Pipeline(steps=[(&#x27;imputer&#x27;,\n",
       "                                                                   SimpleImputer(strategy=&#x27;most_frequent&#x27;)),\n",
       "                                                                  (&#x27;onehot&#x27;,\n",
       "                                                                   OneHotEncoder(handle_unknown=&#x27;ignore&#x27;))]),\n",
       "                                                  [&#x27;f6&#x27;])])),\n",
       "                (&#x27;ml&#x27;, DecisionTreeClassifier())])</pre></div></div></div><div class=\"sk-serial\"><div class=\"sk-item sk-dashed-wrapped\"><div class=\"sk-label-container\"><div class=\"sk-label sk-toggleable\"><input class=\"sk-toggleable__control sk-hidden--visually\" id=\"sk-estimator-id-2\" type=\"checkbox\" ><label for=\"sk-estimator-id-2\" class=\"sk-toggleable__label sk-toggleable__label-arrow\">data_processing: ColumnTransformer</label><div class=\"sk-toggleable__content\"><pre>ColumnTransformer(transformers=[(&#x27;num&#x27;,\n",
       "                                 Pipeline(steps=[(&#x27;imputer&#x27;, SimpleImputer()),\n",
       "                                                 (&#x27;scaler&#x27;, StandardScaler())]),\n",
       "                                 [&#x27;f1&#x27;, &#x27;f2&#x27;, &#x27;f3&#x27;, &#x27;f4&#x27;, &#x27;f5&#x27;]),\n",
       "                                (&#x27;cat&#x27;,\n",
       "                                 Pipeline(steps=[(&#x27;imputer&#x27;,\n",
       "                                                  SimpleImputer(strategy=&#x27;most_frequent&#x27;)),\n",
       "                                                 (&#x27;onehot&#x27;,\n",
       "                                                  OneHotEncoder(handle_unknown=&#x27;ignore&#x27;))]),\n",
       "                                 [&#x27;f6&#x27;])])</pre></div></div></div><div class=\"sk-parallel\"><div class=\"sk-parallel-item\"><div class=\"sk-item\"><div class=\"sk-label-container\"><div class=\"sk-label sk-toggleable\"><input class=\"sk-toggleable__control sk-hidden--visually\" id=\"sk-estimator-id-3\" type=\"checkbox\" ><label for=\"sk-estimator-id-3\" class=\"sk-toggleable__label sk-toggleable__label-arrow\">num</label><div class=\"sk-toggleable__content\"><pre>[&#x27;f1&#x27;, &#x27;f2&#x27;, &#x27;f3&#x27;, &#x27;f4&#x27;, &#x27;f5&#x27;]</pre></div></div></div><div class=\"sk-serial\"><div class=\"sk-item\"><div class=\"sk-serial\"><div class=\"sk-item\"><div class=\"sk-estimator sk-toggleable\"><input class=\"sk-toggleable__control sk-hidden--visually\" id=\"sk-estimator-id-4\" type=\"checkbox\" ><label for=\"sk-estimator-id-4\" class=\"sk-toggleable__label sk-toggleable__label-arrow\">SimpleImputer</label><div class=\"sk-toggleable__content\"><pre>SimpleImputer()</pre></div></div></div><div class=\"sk-item\"><div class=\"sk-estimator sk-toggleable\"><input class=\"sk-toggleable__control sk-hidden--visually\" id=\"sk-estimator-id-5\" type=\"checkbox\" ><label for=\"sk-estimator-id-5\" class=\"sk-toggleable__label sk-toggleable__label-arrow\">StandardScaler</label><div class=\"sk-toggleable__content\"><pre>StandardScaler()</pre></div></div></div></div></div></div></div></div><div class=\"sk-parallel-item\"><div class=\"sk-item\"><div class=\"sk-label-container\"><div class=\"sk-label sk-toggleable\"><input class=\"sk-toggleable__control sk-hidden--visually\" id=\"sk-estimator-id-6\" type=\"checkbox\" ><label for=\"sk-estimator-id-6\" class=\"sk-toggleable__label sk-toggleable__label-arrow\">cat</label><div class=\"sk-toggleable__content\"><pre>[&#x27;f6&#x27;]</pre></div></div></div><div class=\"sk-serial\"><div class=\"sk-item\"><div class=\"sk-serial\"><div class=\"sk-item\"><div class=\"sk-estimator sk-toggleable\"><input class=\"sk-toggleable__control sk-hidden--visually\" id=\"sk-estimator-id-7\" type=\"checkbox\" ><label for=\"sk-estimator-id-7\" class=\"sk-toggleable__label sk-toggleable__label-arrow\">SimpleImputer</label><div class=\"sk-toggleable__content\"><pre>SimpleImputer(strategy=&#x27;most_frequent&#x27;)</pre></div></div></div><div class=\"sk-item\"><div class=\"sk-estimator sk-toggleable\"><input class=\"sk-toggleable__control sk-hidden--visually\" id=\"sk-estimator-id-8\" type=\"checkbox\" ><label for=\"sk-estimator-id-8\" class=\"sk-toggleable__label sk-toggleable__label-arrow\">OneHotEncoder</label><div class=\"sk-toggleable__content\"><pre>OneHotEncoder(handle_unknown=&#x27;ignore&#x27;)</pre></div></div></div></div></div></div></div></div></div></div><div class=\"sk-item\"><div class=\"sk-estimator sk-toggleable\"><input class=\"sk-toggleable__control sk-hidden--visually\" id=\"sk-estimator-id-9\" type=\"checkbox\" ><label for=\"sk-estimator-id-9\" class=\"sk-toggleable__label sk-toggleable__label-arrow\">DecisionTreeClassifier</label><div class=\"sk-toggleable__content\"><pre>DecisionTreeClassifier()</pre></div></div></div></div></div></div></div>"
      ],
      "text/plain": [
       "Pipeline(steps=[('data_processing',\n",
       "                 ColumnTransformer(transformers=[('num',\n",
       "                                                  Pipeline(steps=[('imputer',\n",
       "                                                                   SimpleImputer()),\n",
       "                                                                  ('scaler',\n",
       "                                                                   StandardScaler())]),\n",
       "                                                  ['f1', 'f2', 'f3', 'f4',\n",
       "                                                   'f5']),\n",
       "                                                 ('cat',\n",
       "                                                  Pipeline(steps=[('imputer',\n",
       "                                                                   SimpleImputer(strategy='most_frequent')),\n",
       "                                                                  ('onehot',\n",
       "                                                                   OneHotEncoder(handle_unknown='ignore'))]),\n",
       "                                                  ['f6'])])),\n",
       "                ('ml', DecisionTreeClassifier())])"
      ]
     },
     "execution_count": 38,
     "metadata": {},
     "output_type": "execute_result"
    }
   ],
   "source": [
    "# Create the modeling pipeline\n",
    "dt_modeling_pipeline = Pipeline([\n",
    "    ('data_processing', preprocessor),  # Use the same preprocessor defined earlier\n",
    "    ('ml', DecisionTreeClassifier())     # Decision Tree Classifier\n",
    "])\n",
    "\n",
    "dt_modeling_pipeline"
   ]
  },
  {
   "cell_type": "markdown",
   "id": "c511c15a-f59d-4033-9d6b-24bf391164d6",
   "metadata": {},
   "source": [
    "Explain what metric would be appropriate for this task (1 sentence).\n",
    "\n",
    "We will use the Area Under the Receiver Operating Characteristic Curve (AUC-ROC) as our evaluation metric because it effectively assesses the model's ability to distinguish between classes across various thresholds, making it particularly suitable for scenarios with potential class imbalance."
   ]
  },
  {
   "cell_type": "code",
   "execution_count": 63,
   "id": "0b658c3d-8cdd-496c-a4e2-b027aa15971c",
   "metadata": {},
   "outputs": [
    {
     "name": "stdout",
     "output_type": "stream",
     "text": [
      "Fitting 5 folds for each of 50 candidates, totalling 250 fits\n",
      "Best score: 0.8455\n"
     ]
    }
   ],
   "source": [
    "dt_param_grid = [\n",
    "    {\n",
    "        'ml__max_depth': [2, 5, 10, 15, 20],\n",
    "        'ml__min_samples_split':[3, 5, 10, 20, 40],\n",
    "        'ml__min_samples_leaf': [2, 5]\n",
    "    }\n",
    "]\n",
    "\n",
    "# Define scoring metric\n",
    "scoring = 'roc_auc'  # Change this based on your needs\n",
    "\n",
    "# Initialize StratifiedKFold for better handling of class imbalance\n",
    "cv_strategy = StratifiedKFold(n_splits=5)\n",
    "\n",
    "# Initialize GridSearchCV with verbosity and parallel processing\n",
    "dt_gc = GridSearchCV(\n",
    "    estimator=dt_modeling_pipeline, \n",
    "    param_grid=dt_param_grid, \n",
    "    cv=cv_strategy, \n",
    "    scoring=scoring, \n",
    "    n_jobs=-1,  # Use all available cores\n",
    "    verbose=2    # Increase verbosity to see progress\n",
    ")\n",
    "\n",
    "# Fit the model using GridSearchCV\n",
    "dt_gcv_results = dt_gc.fit(X_train, y_train)\n",
    "\n",
    "# Optionally,display the best score\n",
    "print(f\"Best score: {dt_gc.best_score_:.4f}\")"
   ]
  },
  {
   "cell_type": "code",
   "execution_count": 64,
   "id": "f17be336-e2cf-4284-af1d-c27635ff687e",
   "metadata": {},
   "outputs": [
    {
     "name": "stdout",
     "output_type": "stream",
     "text": [
      "Best cross-validation score: 0.845452650147851\n"
     ]
    }
   ],
   "source": [
    "print(\"Best cross-validation score:\", dt_gcv_results.best_score_)"
   ]
  },
  {
   "cell_type": "code",
   "execution_count": 65,
   "id": "a9713a9f",
   "metadata": {},
   "outputs": [
    {
     "data": {
      "text/plain": [
       "{'ml__max_depth': 10, 'ml__min_samples_leaf': 5, 'ml__min_samples_split': 40}"
      ]
     },
     "execution_count": 65,
     "metadata": {},
     "output_type": "execute_result"
    }
   ],
   "source": [
    "dt_gcv_results.best_params_"
   ]
  },
  {
   "cell_type": "code",
   "execution_count": 66,
   "id": "2e04d9ba",
   "metadata": {},
   "outputs": [
    {
     "data": {
      "text/plain": [
       "0.9123733473457014"
      ]
     },
     "execution_count": 66,
     "metadata": {},
     "output_type": "execute_result"
    }
   ],
   "source": [
    "dt_gcv_results.score(X_train, y_train)"
   ]
  },
  {
   "cell_type": "code",
   "execution_count": 67,
   "id": "c7e2e2fc",
   "metadata": {},
   "outputs": [
    {
     "data": {
      "text/plain": [
       "0.8461923702313946"
      ]
     },
     "execution_count": 67,
     "metadata": {},
     "output_type": "execute_result"
    }
   ],
   "source": [
    "dt_gcv_results.score(X_test, y_test)"
   ]
  },
  {
   "cell_type": "code",
   "execution_count": null,
   "id": "9f8daeae-c726-4adf-87cc-f9f81ecc4ca0",
   "metadata": {},
   "outputs": [],
   "source": []
  },
  {
   "cell_type": "code",
   "execution_count": 74,
   "id": "e7e3a9b6-2a20-4be6-af90-55c0fca5df8b",
   "metadata": {},
   "outputs": [
    {
     "name": "stdout",
     "output_type": "stream",
     "text": [
      "Decision Tree Test Score: 0.7773\n"
     ]
    }
   ],
   "source": [
    "#train 80\n",
    "#test   80\n",
    "\n",
    "from sklearn.metrics import roc_auc_score\n",
    "\n",
    "# Split the data into training (80%) and testing (20%)\n",
    "X_train, X_test, y_train, y_test = train_test_split(X, y, test_size=0.2, random_state=42)\n",
    "\n",
    "# Create a pipeline with preprocessing and the Decision Tree model\n",
    "dt_modeling_pipeline = Pipeline([\n",
    "    ('preprocessing', preprocessor),\n",
    "    ('ml', DecisionTreeClassifier(max_depth=5))  # Using a fixed depth for simplicity\n",
    "])\n",
    "\n",
    "# Fit the model\n",
    "dt_modeling_pipeline.fit(X_train, y_train)\n",
    "\n",
    "# Predict and evaluate on the test set\n",
    "y_pred = dt_modeling_pipeline.predict(X_test)\n",
    "test_score = roc_auc_score(y_test, y_pred)\n",
    "print(f\"Decision Tree Test Score: {test_score:.4f}\")"
   ]
  },
  {
   "cell_type": "code",
   "execution_count": 75,
   "id": "5f8a8475-d250-445e-bc84-afbcae60f06b",
   "metadata": {},
   "outputs": [
    {
     "name": "stdout",
     "output_type": "stream",
     "text": [
      "Decision Tree Test Score (ROC AUC): 0.8415\n"
     ]
    }
   ],
   "source": [
    "# Predict probabilities on the test set\n",
    "y_pred_proba = dt_modeling_pipeline.predict_proba(X_test)[:, 1]  # Get probabilities for the positive class\n",
    "\n",
    "# Calculate the ROC AUC score\n",
    "test_score = roc_auc_score(y_test, y_pred_proba)\n",
    "print(f\"Decision Tree Test Score (ROC AUC): {test_score:.4f}\")"
   ]
  },
  {
   "cell_type": "markdown",
   "id": "11da61e0",
   "metadata": {},
   "source": [
    "Explain __shortly__ your findings how did you address the issues.\n",
    "\n",
    "To calculate the ROC AUC score correctly, use the predict_proba method instead of predict. This method returns an array of probabilities for each class, and you should extract the probabilities for the positive class using [:, 1]. Subsequently, the roc_auc_score function can be applied to these probabilities, allowing for an accurate assessment of the model's performance based on the area under the ROC curve, rather than relying on class predictions."
   ]
  },
  {
   "cell_type": "code",
   "execution_count": null,
   "id": "d034fb34-db2f-44a8-ac29-4df536360b7b",
   "metadata": {},
   "outputs": [],
   "source": []
  },
  {
   "cell_type": "code",
   "execution_count": 80,
   "id": "cb0d2e72-2d81-4f20-ae11-86e3fe4575ed",
   "metadata": {},
   "outputs": [
    {
     "data": {
      "text/html": [
       "<style>#sk-container-id-2 {color: black;}#sk-container-id-2 pre{padding: 0;}#sk-container-id-2 div.sk-toggleable {background-color: white;}#sk-container-id-2 label.sk-toggleable__label {cursor: pointer;display: block;width: 100%;margin-bottom: 0;padding: 0.3em;box-sizing: border-box;text-align: center;}#sk-container-id-2 label.sk-toggleable__label-arrow:before {content: \"▸\";float: left;margin-right: 0.25em;color: #696969;}#sk-container-id-2 label.sk-toggleable__label-arrow:hover:before {color: black;}#sk-container-id-2 div.sk-estimator:hover label.sk-toggleable__label-arrow:before {color: black;}#sk-container-id-2 div.sk-toggleable__content {max-height: 0;max-width: 0;overflow: hidden;text-align: left;background-color: #f0f8ff;}#sk-container-id-2 div.sk-toggleable__content pre {margin: 0.2em;color: black;border-radius: 0.25em;background-color: #f0f8ff;}#sk-container-id-2 input.sk-toggleable__control:checked~div.sk-toggleable__content {max-height: 200px;max-width: 100%;overflow: auto;}#sk-container-id-2 input.sk-toggleable__control:checked~label.sk-toggleable__label-arrow:before {content: \"▾\";}#sk-container-id-2 div.sk-estimator input.sk-toggleable__control:checked~label.sk-toggleable__label {background-color: #d4ebff;}#sk-container-id-2 div.sk-label input.sk-toggleable__control:checked~label.sk-toggleable__label {background-color: #d4ebff;}#sk-container-id-2 input.sk-hidden--visually {border: 0;clip: rect(1px 1px 1px 1px);clip: rect(1px, 1px, 1px, 1px);height: 1px;margin: -1px;overflow: hidden;padding: 0;position: absolute;width: 1px;}#sk-container-id-2 div.sk-estimator {font-family: monospace;background-color: #f0f8ff;border: 1px dotted black;border-radius: 0.25em;box-sizing: border-box;margin-bottom: 0.5em;}#sk-container-id-2 div.sk-estimator:hover {background-color: #d4ebff;}#sk-container-id-2 div.sk-parallel-item::after {content: \"\";width: 100%;border-bottom: 1px solid gray;flex-grow: 1;}#sk-container-id-2 div.sk-label:hover label.sk-toggleable__label {background-color: #d4ebff;}#sk-container-id-2 div.sk-serial::before {content: \"\";position: absolute;border-left: 1px solid gray;box-sizing: border-box;top: 0;bottom: 0;left: 50%;z-index: 0;}#sk-container-id-2 div.sk-serial {display: flex;flex-direction: column;align-items: center;background-color: white;padding-right: 0.2em;padding-left: 0.2em;position: relative;}#sk-container-id-2 div.sk-item {position: relative;z-index: 1;}#sk-container-id-2 div.sk-parallel {display: flex;align-items: stretch;justify-content: center;background-color: white;position: relative;}#sk-container-id-2 div.sk-item::before, #sk-container-id-2 div.sk-parallel-item::before {content: \"\";position: absolute;border-left: 1px solid gray;box-sizing: border-box;top: 0;bottom: 0;left: 50%;z-index: -1;}#sk-container-id-2 div.sk-parallel-item {display: flex;flex-direction: column;z-index: 1;position: relative;background-color: white;}#sk-container-id-2 div.sk-parallel-item:first-child::after {align-self: flex-end;width: 50%;}#sk-container-id-2 div.sk-parallel-item:last-child::after {align-self: flex-start;width: 50%;}#sk-container-id-2 div.sk-parallel-item:only-child::after {width: 0;}#sk-container-id-2 div.sk-dashed-wrapped {border: 1px dashed gray;margin: 0 0.4em 0.5em 0.4em;box-sizing: border-box;padding-bottom: 0.4em;background-color: white;}#sk-container-id-2 div.sk-label label {font-family: monospace;font-weight: bold;display: inline-block;line-height: 1.2em;}#sk-container-id-2 div.sk-label-container {text-align: center;}#sk-container-id-2 div.sk-container {/* jupyter's `normalize.less` sets `[hidden] { display: none; }` but bootstrap.min.css set `[hidden] { display: none !important; }` so we also need the `!important` here to be able to override the default hidden behavior on the sphinx rendered scikit-learn.org. See: https://github.com/scikit-learn/scikit-learn/issues/21755 */display: inline-block !important;position: relative;}#sk-container-id-2 div.sk-text-repr-fallback {display: none;}</style><div id=\"sk-container-id-2\" class=\"sk-top-container\"><div class=\"sk-text-repr-fallback\"><pre>Pipeline(steps=[(&#x27;data_processing&#x27;,\n",
       "                 ColumnTransformer(transformers=[(&#x27;num&#x27;,\n",
       "                                                  Pipeline(steps=[(&#x27;imputer&#x27;,\n",
       "                                                                   SimpleImputer()),\n",
       "                                                                  (&#x27;scaler&#x27;,\n",
       "                                                                   StandardScaler())]),\n",
       "                                                  [&#x27;f1&#x27;, &#x27;f2&#x27;, &#x27;f3&#x27;, &#x27;f4&#x27;,\n",
       "                                                   &#x27;f5&#x27;]),\n",
       "                                                 (&#x27;cat&#x27;,\n",
       "                                                  Pipeline(steps=[(&#x27;imputer&#x27;,\n",
       "                                                                   SimpleImputer(strategy=&#x27;most_frequent&#x27;)),\n",
       "                                                                  (&#x27;onehot&#x27;,\n",
       "                                                                   OneHotEncoder(handle_unknown=&#x27;ignore&#x27;))]),\n",
       "                                                  [&#x27;f6&#x27;])])),\n",
       "                (&#x27;ml&#x27;, RandomForestClassifier())])</pre><b>In a Jupyter environment, please rerun this cell to show the HTML representation or trust the notebook. <br />On GitHub, the HTML representation is unable to render, please try loading this page with nbviewer.org.</b></div><div class=\"sk-container\" hidden><div class=\"sk-item sk-dashed-wrapped\"><div class=\"sk-label-container\"><div class=\"sk-label sk-toggleable\"><input class=\"sk-toggleable__control sk-hidden--visually\" id=\"sk-estimator-id-10\" type=\"checkbox\" ><label for=\"sk-estimator-id-10\" class=\"sk-toggleable__label sk-toggleable__label-arrow\">Pipeline</label><div class=\"sk-toggleable__content\"><pre>Pipeline(steps=[(&#x27;data_processing&#x27;,\n",
       "                 ColumnTransformer(transformers=[(&#x27;num&#x27;,\n",
       "                                                  Pipeline(steps=[(&#x27;imputer&#x27;,\n",
       "                                                                   SimpleImputer()),\n",
       "                                                                  (&#x27;scaler&#x27;,\n",
       "                                                                   StandardScaler())]),\n",
       "                                                  [&#x27;f1&#x27;, &#x27;f2&#x27;, &#x27;f3&#x27;, &#x27;f4&#x27;,\n",
       "                                                   &#x27;f5&#x27;]),\n",
       "                                                 (&#x27;cat&#x27;,\n",
       "                                                  Pipeline(steps=[(&#x27;imputer&#x27;,\n",
       "                                                                   SimpleImputer(strategy=&#x27;most_frequent&#x27;)),\n",
       "                                                                  (&#x27;onehot&#x27;,\n",
       "                                                                   OneHotEncoder(handle_unknown=&#x27;ignore&#x27;))]),\n",
       "                                                  [&#x27;f6&#x27;])])),\n",
       "                (&#x27;ml&#x27;, RandomForestClassifier())])</pre></div></div></div><div class=\"sk-serial\"><div class=\"sk-item sk-dashed-wrapped\"><div class=\"sk-label-container\"><div class=\"sk-label sk-toggleable\"><input class=\"sk-toggleable__control sk-hidden--visually\" id=\"sk-estimator-id-11\" type=\"checkbox\" ><label for=\"sk-estimator-id-11\" class=\"sk-toggleable__label sk-toggleable__label-arrow\">data_processing: ColumnTransformer</label><div class=\"sk-toggleable__content\"><pre>ColumnTransformer(transformers=[(&#x27;num&#x27;,\n",
       "                                 Pipeline(steps=[(&#x27;imputer&#x27;, SimpleImputer()),\n",
       "                                                 (&#x27;scaler&#x27;, StandardScaler())]),\n",
       "                                 [&#x27;f1&#x27;, &#x27;f2&#x27;, &#x27;f3&#x27;, &#x27;f4&#x27;, &#x27;f5&#x27;]),\n",
       "                                (&#x27;cat&#x27;,\n",
       "                                 Pipeline(steps=[(&#x27;imputer&#x27;,\n",
       "                                                  SimpleImputer(strategy=&#x27;most_frequent&#x27;)),\n",
       "                                                 (&#x27;onehot&#x27;,\n",
       "                                                  OneHotEncoder(handle_unknown=&#x27;ignore&#x27;))]),\n",
       "                                 [&#x27;f6&#x27;])])</pre></div></div></div><div class=\"sk-parallel\"><div class=\"sk-parallel-item\"><div class=\"sk-item\"><div class=\"sk-label-container\"><div class=\"sk-label sk-toggleable\"><input class=\"sk-toggleable__control sk-hidden--visually\" id=\"sk-estimator-id-12\" type=\"checkbox\" ><label for=\"sk-estimator-id-12\" class=\"sk-toggleable__label sk-toggleable__label-arrow\">num</label><div class=\"sk-toggleable__content\"><pre>[&#x27;f1&#x27;, &#x27;f2&#x27;, &#x27;f3&#x27;, &#x27;f4&#x27;, &#x27;f5&#x27;]</pre></div></div></div><div class=\"sk-serial\"><div class=\"sk-item\"><div class=\"sk-serial\"><div class=\"sk-item\"><div class=\"sk-estimator sk-toggleable\"><input class=\"sk-toggleable__control sk-hidden--visually\" id=\"sk-estimator-id-13\" type=\"checkbox\" ><label for=\"sk-estimator-id-13\" class=\"sk-toggleable__label sk-toggleable__label-arrow\">SimpleImputer</label><div class=\"sk-toggleable__content\"><pre>SimpleImputer()</pre></div></div></div><div class=\"sk-item\"><div class=\"sk-estimator sk-toggleable\"><input class=\"sk-toggleable__control sk-hidden--visually\" id=\"sk-estimator-id-14\" type=\"checkbox\" ><label for=\"sk-estimator-id-14\" class=\"sk-toggleable__label sk-toggleable__label-arrow\">StandardScaler</label><div class=\"sk-toggleable__content\"><pre>StandardScaler()</pre></div></div></div></div></div></div></div></div><div class=\"sk-parallel-item\"><div class=\"sk-item\"><div class=\"sk-label-container\"><div class=\"sk-label sk-toggleable\"><input class=\"sk-toggleable__control sk-hidden--visually\" id=\"sk-estimator-id-15\" type=\"checkbox\" ><label for=\"sk-estimator-id-15\" class=\"sk-toggleable__label sk-toggleable__label-arrow\">cat</label><div class=\"sk-toggleable__content\"><pre>[&#x27;f6&#x27;]</pre></div></div></div><div class=\"sk-serial\"><div class=\"sk-item\"><div class=\"sk-serial\"><div class=\"sk-item\"><div class=\"sk-estimator sk-toggleable\"><input class=\"sk-toggleable__control sk-hidden--visually\" id=\"sk-estimator-id-16\" type=\"checkbox\" ><label for=\"sk-estimator-id-16\" class=\"sk-toggleable__label sk-toggleable__label-arrow\">SimpleImputer</label><div class=\"sk-toggleable__content\"><pre>SimpleImputer(strategy=&#x27;most_frequent&#x27;)</pre></div></div></div><div class=\"sk-item\"><div class=\"sk-estimator sk-toggleable\"><input class=\"sk-toggleable__control sk-hidden--visually\" id=\"sk-estimator-id-17\" type=\"checkbox\" ><label for=\"sk-estimator-id-17\" class=\"sk-toggleable__label sk-toggleable__label-arrow\">OneHotEncoder</label><div class=\"sk-toggleable__content\"><pre>OneHotEncoder(handle_unknown=&#x27;ignore&#x27;)</pre></div></div></div></div></div></div></div></div></div></div><div class=\"sk-item\"><div class=\"sk-estimator sk-toggleable\"><input class=\"sk-toggleable__control sk-hidden--visually\" id=\"sk-estimator-id-18\" type=\"checkbox\" ><label for=\"sk-estimator-id-18\" class=\"sk-toggleable__label sk-toggleable__label-arrow\">RandomForestClassifier</label><div class=\"sk-toggleable__content\"><pre>RandomForestClassifier()</pre></div></div></div></div></div></div></div>"
      ],
      "text/plain": [
       "Pipeline(steps=[('data_processing',\n",
       "                 ColumnTransformer(transformers=[('num',\n",
       "                                                  Pipeline(steps=[('imputer',\n",
       "                                                                   SimpleImputer()),\n",
       "                                                                  ('scaler',\n",
       "                                                                   StandardScaler())]),\n",
       "                                                  ['f1', 'f2', 'f3', 'f4',\n",
       "                                                   'f5']),\n",
       "                                                 ('cat',\n",
       "                                                  Pipeline(steps=[('imputer',\n",
       "                                                                   SimpleImputer(strategy='most_frequent')),\n",
       "                                                                  ('onehot',\n",
       "                                                                   OneHotEncoder(handle_unknown='ignore'))]),\n",
       "                                                  ['f6'])])),\n",
       "                ('ml', RandomForestClassifier())])"
      ]
     },
     "execution_count": 80,
     "metadata": {},
     "output_type": "execute_result"
    }
   ],
   "source": [
    "rf_modeling_pipeline = Pipeline([\n",
    "    ('data_processing', preprocessor),\n",
    "    ('ml', RandomForestClassifier())]\n",
    ")\n",
    "rf_modeling_pipeline"
   ]
  },
  {
   "cell_type": "code",
   "execution_count": 82,
   "id": "20ea6fb0-d63b-4f3e-933c-361c9a59cc9b",
   "metadata": {},
   "outputs": [
    {
     "name": "stdout",
     "output_type": "stream",
     "text": [
      "Fitting 2 folds for each of 1 candidates, totalling 2 fits\n",
      "Best score: 0.8455\n"
     ]
    }
   ],
   "source": [
    "from sklearn.model_selection import RandomizedSearchCV, StratifiedKFold\n",
    "\n",
    "rf_param_dist = [ {\n",
    "         'ml__max_depth': [2, 5, 10, 15, 20],\n",
    "         'ml__min_samples_split':[3, 5, 10, 20, 40],\n",
    "         'ml__min_samples_leaf': [2, 5] \n",
    "}\n",
    "                ]\n",
    "# Define scoring metric\n",
    "scoring = 'roc_auc'\n",
    "\n",
    "# Initialize StratifiedKFold with fewer splits\n",
    "cv_strategy = StratifiedKFold(n_splits=2)\n",
    "\n",
    "# Initialize RandomizedSearchCV with fewer iterations\n",
    "rf_gc = RandomizedSearchCV(\n",
    "    estimator=rf_modeling_pipeline, \n",
    "    param_distributions=rf_param_dist, \n",
    "    n_iter=1,  # Only one combination\n",
    "    cv=cv_strategy, \n",
    "    scoring=scoring, \n",
    "    n_jobs=-1,  # Use all available cores for parallel processing\n",
    "    verbose=1,  # Adjusted verbosity\n",
    "    random_state=42  # Ensure reproducibility\n",
    ")\n",
    "\n",
    "# Fit the model using RandomizedSearchCV with a smaller sample\n",
    "rf_gcv_results = rf_gc.fit(X_train.sample(frac=0.1, random_state=42), y_train.sample(frac=0.1, random_state=42))\n",
    "\n",
    "# Display the best score\n",
    "print(f\"Best score: {rf_gc.best_score_:.4f}\")"
   ]
  },
  {
   "cell_type": "code",
   "execution_count": 83,
   "id": "f560a522-ec1c-4db8-ad78-10e03230909e",
   "metadata": {},
   "outputs": [
    {
     "data": {
      "text/plain": [
       "{'ml__min_samples_split': 20, 'ml__min_samples_leaf': 2, 'ml__max_depth': 5}"
      ]
     },
     "execution_count": 83,
     "metadata": {},
     "output_type": "execute_result"
    }
   ],
   "source": [
    "rf_gcv_results.best_params_"
   ]
  },
  {
   "cell_type": "code",
   "execution_count": 90,
   "id": "20b4ca6c-3a7d-4f2c-a2be-7645961657a3",
   "metadata": {},
   "outputs": [
    {
     "data": {
      "text/plain": [
       "0.8442077534918396"
      ]
     },
     "execution_count": 90,
     "metadata": {},
     "output_type": "execute_result"
    }
   ],
   "source": [
    "rf_gcv_results.score(X_train, y_train)"
   ]
  },
  {
   "cell_type": "code",
   "execution_count": 91,
   "id": "203449b3-64f6-4e14-9df4-7cac105503a3",
   "metadata": {},
   "outputs": [
    {
     "data": {
      "text/plain": [
       "0.8425110312412207"
      ]
     },
     "execution_count": 91,
     "metadata": {},
     "output_type": "execute_result"
    }
   ],
   "source": [
    "rf_gcv_results.score(X_test, y_test)"
   ]
  },
  {
   "cell_type": "code",
   "execution_count": null,
   "id": "02de28ff-b6b7-4744-8121-ce57c507af37",
   "metadata": {},
   "outputs": [],
   "source": []
  },
  {
   "cell_type": "markdown",
   "id": "99223abf-a10d-4f2c-8319-7016e0e9554f",
   "metadata": {},
   "source": [
    "Explain shortly your findings how did you address the issues \n",
    "\n",
    "The approach efficiently combines preprocessing and model training, addresses class imbalance through stratified cross-validation, and optimizes hyperparameter tuning by limiting the search space and using parallel processing. By doing so, I aimed to achieve a well-performing Random Forest model while minimizing computational overhead. After fitting the model, I displayed the best score to evaluate the optimal model configuration."
   ]
  },
  {
   "cell_type": "code",
   "execution_count": null,
   "id": "cd76948d-abeb-4976-9657-e3764f589e6c",
   "metadata": {},
   "outputs": [],
   "source": []
  },
  {
   "cell_type": "markdown",
   "id": "5cf36141",
   "metadata": {},
   "source": [
    "Explain which model would you go with? \n",
    "\n",
    "The Decision Tree model outperforms the Random Forest model slightly in terms of cross-validation and testing scores, with a best cross-validation score of 0.8455 compared to 0.8447 for the Random Forest. The Decision Tree also shows a significantly higher training score of 0.9124, indicating potential overfitting, as it performs much better on the training set than on the test set. In contrast, the Random Forest exhibits more balanced performance, with a training score of 0.8459 and a testing score of 0.8442, suggesting it may generalize better.\n",
    "\n",
    "Given the higher risk of overfitting with the Decision Tree, the Random Forest model is the preferable choice. Its ensemble approach typically leads to more robust performance on unseen data. While the differences in scores are small, prioritizing a model that is less prone to overfitting and demonstrates better generalization is advisable for reliable predictions. Further tuning of the Random Forest parameters could also enhance its performance."
   ]
  },
  {
   "cell_type": "code",
   "execution_count": 96,
   "id": "4d3b9065-5102-463c-bdf7-08cd231bcde5",
   "metadata": {},
   "outputs": [
    {
     "name": "stdout",
     "output_type": "stream",
     "text": [
      "Random Forest Best Score: 0.8455\n",
      "Decision Tree Best Score: 0.8455\n"
     ]
    }
   ],
   "source": [
    "# Best scores\n",
    "print(f\"Random Forest Best Score: {rf_gc.best_score_:.4f}\")\n",
    "print(f\"Decision Tree Best Score: {dt_gc.best_score_:.4f}\")"
   ]
  },
  {
   "cell_type": "code",
   "execution_count": 97,
   "id": "18d60665-3efc-4dcc-a43a-e7235b2bb3d8",
   "metadata": {},
   "outputs": [
    {
     "name": "stdout",
     "output_type": "stream",
     "text": [
      "Best Random Forest Parameters: {'ml__min_samples_split': 20, 'ml__min_samples_leaf': 2, 'ml__max_depth': 5}\n",
      "Best Decision Tree Parameters: {'ml__max_depth': 10, 'ml__min_samples_leaf': 5, 'ml__min_samples_split': 40}\n"
     ]
    }
   ],
   "source": [
    "# Best parameters\n",
    "print(\"Best Random Forest Parameters:\", rf_gc.best_params_)\n",
    "print(\"Best Decision Tree Parameters:\", dt_gc.best_params_)"
   ]
  },
  {
   "cell_type": "code",
   "execution_count": 98,
   "id": "938bccf7-bb28-4253-addd-a53fb60731cf",
   "metadata": {},
   "outputs": [
    {
     "name": "stdout",
     "output_type": "stream",
     "text": [
      "Random Forest Test Score: 0.8425\n",
      "Decision Tree Test Score: 0.8472\n"
     ]
    }
   ],
   "source": [
    "# Evaluate on the test set\n",
    "rf_test_score = rf_gc.score(X_test, y_test)\n",
    "dt_test_score = dt_gc.score(X_test, y_test)\n",
    "\n",
    "print(f\"Random Forest Test Score: {rf_test_score:.4f}\")\n",
    "print(f\"Decision Tree Test Score: {dt_test_score:.4f}\")"
   ]
  },
  {
   "cell_type": "code",
   "execution_count": null,
   "id": "23dd648a-0dee-45ca-ae95-f9976248b8d3",
   "metadata": {},
   "outputs": [],
   "source": []
  },
  {
   "cell_type": "code",
   "execution_count": 105,
   "id": "06367024",
   "metadata": {},
   "outputs": [
    {
     "data": {
      "text/html": [
       "<style>#sk-container-id-3 {color: black;}#sk-container-id-3 pre{padding: 0;}#sk-container-id-3 div.sk-toggleable {background-color: white;}#sk-container-id-3 label.sk-toggleable__label {cursor: pointer;display: block;width: 100%;margin-bottom: 0;padding: 0.3em;box-sizing: border-box;text-align: center;}#sk-container-id-3 label.sk-toggleable__label-arrow:before {content: \"▸\";float: left;margin-right: 0.25em;color: #696969;}#sk-container-id-3 label.sk-toggleable__label-arrow:hover:before {color: black;}#sk-container-id-3 div.sk-estimator:hover label.sk-toggleable__label-arrow:before {color: black;}#sk-container-id-3 div.sk-toggleable__content {max-height: 0;max-width: 0;overflow: hidden;text-align: left;background-color: #f0f8ff;}#sk-container-id-3 div.sk-toggleable__content pre {margin: 0.2em;color: black;border-radius: 0.25em;background-color: #f0f8ff;}#sk-container-id-3 input.sk-toggleable__control:checked~div.sk-toggleable__content {max-height: 200px;max-width: 100%;overflow: auto;}#sk-container-id-3 input.sk-toggleable__control:checked~label.sk-toggleable__label-arrow:before {content: \"▾\";}#sk-container-id-3 div.sk-estimator input.sk-toggleable__control:checked~label.sk-toggleable__label {background-color: #d4ebff;}#sk-container-id-3 div.sk-label input.sk-toggleable__control:checked~label.sk-toggleable__label {background-color: #d4ebff;}#sk-container-id-3 input.sk-hidden--visually {border: 0;clip: rect(1px 1px 1px 1px);clip: rect(1px, 1px, 1px, 1px);height: 1px;margin: -1px;overflow: hidden;padding: 0;position: absolute;width: 1px;}#sk-container-id-3 div.sk-estimator {font-family: monospace;background-color: #f0f8ff;border: 1px dotted black;border-radius: 0.25em;box-sizing: border-box;margin-bottom: 0.5em;}#sk-container-id-3 div.sk-estimator:hover {background-color: #d4ebff;}#sk-container-id-3 div.sk-parallel-item::after {content: \"\";width: 100%;border-bottom: 1px solid gray;flex-grow: 1;}#sk-container-id-3 div.sk-label:hover label.sk-toggleable__label {background-color: #d4ebff;}#sk-container-id-3 div.sk-serial::before {content: \"\";position: absolute;border-left: 1px solid gray;box-sizing: border-box;top: 0;bottom: 0;left: 50%;z-index: 0;}#sk-container-id-3 div.sk-serial {display: flex;flex-direction: column;align-items: center;background-color: white;padding-right: 0.2em;padding-left: 0.2em;position: relative;}#sk-container-id-3 div.sk-item {position: relative;z-index: 1;}#sk-container-id-3 div.sk-parallel {display: flex;align-items: stretch;justify-content: center;background-color: white;position: relative;}#sk-container-id-3 div.sk-item::before, #sk-container-id-3 div.sk-parallel-item::before {content: \"\";position: absolute;border-left: 1px solid gray;box-sizing: border-box;top: 0;bottom: 0;left: 50%;z-index: -1;}#sk-container-id-3 div.sk-parallel-item {display: flex;flex-direction: column;z-index: 1;position: relative;background-color: white;}#sk-container-id-3 div.sk-parallel-item:first-child::after {align-self: flex-end;width: 50%;}#sk-container-id-3 div.sk-parallel-item:last-child::after {align-self: flex-start;width: 50%;}#sk-container-id-3 div.sk-parallel-item:only-child::after {width: 0;}#sk-container-id-3 div.sk-dashed-wrapped {border: 1px dashed gray;margin: 0 0.4em 0.5em 0.4em;box-sizing: border-box;padding-bottom: 0.4em;background-color: white;}#sk-container-id-3 div.sk-label label {font-family: monospace;font-weight: bold;display: inline-block;line-height: 1.2em;}#sk-container-id-3 div.sk-label-container {text-align: center;}#sk-container-id-3 div.sk-container {/* jupyter's `normalize.less` sets `[hidden] { display: none; }` but bootstrap.min.css set `[hidden] { display: none !important; }` so we also need the `!important` here to be able to override the default hidden behavior on the sphinx rendered scikit-learn.org. See: https://github.com/scikit-learn/scikit-learn/issues/21755 */display: inline-block !important;position: relative;}#sk-container-id-3 div.sk-text-repr-fallback {display: none;}</style><div id=\"sk-container-id-3\" class=\"sk-top-container\"><div class=\"sk-text-repr-fallback\"><pre>Pipeline(steps=[(&#x27;data_processing&#x27;,\n",
       "                 ColumnTransformer(transformers=[(&#x27;num&#x27;,\n",
       "                                                  Pipeline(steps=[(&#x27;imputer&#x27;,\n",
       "                                                                   SimpleImputer()),\n",
       "                                                                  (&#x27;scaler&#x27;,\n",
       "                                                                   StandardScaler())]),\n",
       "                                                  [&#x27;f1&#x27;, &#x27;f2&#x27;, &#x27;f3&#x27;, &#x27;f4&#x27;,\n",
       "                                                   &#x27;f5&#x27;]),\n",
       "                                                 (&#x27;cat&#x27;,\n",
       "                                                  Pipeline(steps=[(&#x27;imputer&#x27;,\n",
       "                                                                   SimpleImputer(strategy=&#x27;most_frequent&#x27;)),\n",
       "                                                                  (&#x27;onehot&#x27;,\n",
       "                                                                   OneHotEncoder(handle_unknown=&#x27;ignore&#x27;))]),\n",
       "                                                  [&#x27;f6&#x27;])])),\n",
       "                (&#x27;ml&#x27;, RandomForestClassifier(max_depth=4, n_estimators=200))])</pre><b>In a Jupyter environment, please rerun this cell to show the HTML representation or trust the notebook. <br />On GitHub, the HTML representation is unable to render, please try loading this page with nbviewer.org.</b></div><div class=\"sk-container\" hidden><div class=\"sk-item sk-dashed-wrapped\"><div class=\"sk-label-container\"><div class=\"sk-label sk-toggleable\"><input class=\"sk-toggleable__control sk-hidden--visually\" id=\"sk-estimator-id-19\" type=\"checkbox\" ><label for=\"sk-estimator-id-19\" class=\"sk-toggleable__label sk-toggleable__label-arrow\">Pipeline</label><div class=\"sk-toggleable__content\"><pre>Pipeline(steps=[(&#x27;data_processing&#x27;,\n",
       "                 ColumnTransformer(transformers=[(&#x27;num&#x27;,\n",
       "                                                  Pipeline(steps=[(&#x27;imputer&#x27;,\n",
       "                                                                   SimpleImputer()),\n",
       "                                                                  (&#x27;scaler&#x27;,\n",
       "                                                                   StandardScaler())]),\n",
       "                                                  [&#x27;f1&#x27;, &#x27;f2&#x27;, &#x27;f3&#x27;, &#x27;f4&#x27;,\n",
       "                                                   &#x27;f5&#x27;]),\n",
       "                                                 (&#x27;cat&#x27;,\n",
       "                                                  Pipeline(steps=[(&#x27;imputer&#x27;,\n",
       "                                                                   SimpleImputer(strategy=&#x27;most_frequent&#x27;)),\n",
       "                                                                  (&#x27;onehot&#x27;,\n",
       "                                                                   OneHotEncoder(handle_unknown=&#x27;ignore&#x27;))]),\n",
       "                                                  [&#x27;f6&#x27;])])),\n",
       "                (&#x27;ml&#x27;, RandomForestClassifier(max_depth=4, n_estimators=200))])</pre></div></div></div><div class=\"sk-serial\"><div class=\"sk-item sk-dashed-wrapped\"><div class=\"sk-label-container\"><div class=\"sk-label sk-toggleable\"><input class=\"sk-toggleable__control sk-hidden--visually\" id=\"sk-estimator-id-20\" type=\"checkbox\" ><label for=\"sk-estimator-id-20\" class=\"sk-toggleable__label sk-toggleable__label-arrow\">data_processing: ColumnTransformer</label><div class=\"sk-toggleable__content\"><pre>ColumnTransformer(transformers=[(&#x27;num&#x27;,\n",
       "                                 Pipeline(steps=[(&#x27;imputer&#x27;, SimpleImputer()),\n",
       "                                                 (&#x27;scaler&#x27;, StandardScaler())]),\n",
       "                                 [&#x27;f1&#x27;, &#x27;f2&#x27;, &#x27;f3&#x27;, &#x27;f4&#x27;, &#x27;f5&#x27;]),\n",
       "                                (&#x27;cat&#x27;,\n",
       "                                 Pipeline(steps=[(&#x27;imputer&#x27;,\n",
       "                                                  SimpleImputer(strategy=&#x27;most_frequent&#x27;)),\n",
       "                                                 (&#x27;onehot&#x27;,\n",
       "                                                  OneHotEncoder(handle_unknown=&#x27;ignore&#x27;))]),\n",
       "                                 [&#x27;f6&#x27;])])</pre></div></div></div><div class=\"sk-parallel\"><div class=\"sk-parallel-item\"><div class=\"sk-item\"><div class=\"sk-label-container\"><div class=\"sk-label sk-toggleable\"><input class=\"sk-toggleable__control sk-hidden--visually\" id=\"sk-estimator-id-21\" type=\"checkbox\" ><label for=\"sk-estimator-id-21\" class=\"sk-toggleable__label sk-toggleable__label-arrow\">num</label><div class=\"sk-toggleable__content\"><pre>[&#x27;f1&#x27;, &#x27;f2&#x27;, &#x27;f3&#x27;, &#x27;f4&#x27;, &#x27;f5&#x27;]</pre></div></div></div><div class=\"sk-serial\"><div class=\"sk-item\"><div class=\"sk-serial\"><div class=\"sk-item\"><div class=\"sk-estimator sk-toggleable\"><input class=\"sk-toggleable__control sk-hidden--visually\" id=\"sk-estimator-id-22\" type=\"checkbox\" ><label for=\"sk-estimator-id-22\" class=\"sk-toggleable__label sk-toggleable__label-arrow\">SimpleImputer</label><div class=\"sk-toggleable__content\"><pre>SimpleImputer()</pre></div></div></div><div class=\"sk-item\"><div class=\"sk-estimator sk-toggleable\"><input class=\"sk-toggleable__control sk-hidden--visually\" id=\"sk-estimator-id-23\" type=\"checkbox\" ><label for=\"sk-estimator-id-23\" class=\"sk-toggleable__label sk-toggleable__label-arrow\">StandardScaler</label><div class=\"sk-toggleable__content\"><pre>StandardScaler()</pre></div></div></div></div></div></div></div></div><div class=\"sk-parallel-item\"><div class=\"sk-item\"><div class=\"sk-label-container\"><div class=\"sk-label sk-toggleable\"><input class=\"sk-toggleable__control sk-hidden--visually\" id=\"sk-estimator-id-24\" type=\"checkbox\" ><label for=\"sk-estimator-id-24\" class=\"sk-toggleable__label sk-toggleable__label-arrow\">cat</label><div class=\"sk-toggleable__content\"><pre>[&#x27;f6&#x27;]</pre></div></div></div><div class=\"sk-serial\"><div class=\"sk-item\"><div class=\"sk-serial\"><div class=\"sk-item\"><div class=\"sk-estimator sk-toggleable\"><input class=\"sk-toggleable__control sk-hidden--visually\" id=\"sk-estimator-id-25\" type=\"checkbox\" ><label for=\"sk-estimator-id-25\" class=\"sk-toggleable__label sk-toggleable__label-arrow\">SimpleImputer</label><div class=\"sk-toggleable__content\"><pre>SimpleImputer(strategy=&#x27;most_frequent&#x27;)</pre></div></div></div><div class=\"sk-item\"><div class=\"sk-estimator sk-toggleable\"><input class=\"sk-toggleable__control sk-hidden--visually\" id=\"sk-estimator-id-26\" type=\"checkbox\" ><label for=\"sk-estimator-id-26\" class=\"sk-toggleable__label sk-toggleable__label-arrow\">OneHotEncoder</label><div class=\"sk-toggleable__content\"><pre>OneHotEncoder(handle_unknown=&#x27;ignore&#x27;)</pre></div></div></div></div></div></div></div></div></div></div><div class=\"sk-item\"><div class=\"sk-estimator sk-toggleable\"><input class=\"sk-toggleable__control sk-hidden--visually\" id=\"sk-estimator-id-27\" type=\"checkbox\" ><label for=\"sk-estimator-id-27\" class=\"sk-toggleable__label sk-toggleable__label-arrow\">RandomForestClassifier</label><div class=\"sk-toggleable__content\"><pre>RandomForestClassifier(max_depth=4, n_estimators=200)</pre></div></div></div></div></div></div></div>"
      ],
      "text/plain": [
       "Pipeline(steps=[('data_processing',\n",
       "                 ColumnTransformer(transformers=[('num',\n",
       "                                                  Pipeline(steps=[('imputer',\n",
       "                                                                   SimpleImputer()),\n",
       "                                                                  ('scaler',\n",
       "                                                                   StandardScaler())]),\n",
       "                                                  ['f1', 'f2', 'f3', 'f4',\n",
       "                                                   'f5']),\n",
       "                                                 ('cat',\n",
       "                                                  Pipeline(steps=[('imputer',\n",
       "                                                                   SimpleImputer(strategy='most_frequent')),\n",
       "                                                                  ('onehot',\n",
       "                                                                   OneHotEncoder(handle_unknown='ignore'))]),\n",
       "                                                  ['f6'])])),\n",
       "                ('ml', RandomForestClassifier(max_depth=4, n_estimators=200))])"
      ]
     },
     "execution_count": 105,
     "metadata": {},
     "output_type": "execute_result"
    }
   ],
   "source": [
    "# create a new pipeline with the winner model and the best params\n",
    "# evaluate the same results\n",
    "\n",
    "pipeline = Pipeline([\n",
    "    ('data_processing', preprocessor),\n",
    "    ('ml', RandomForestClassifier(n_estimators=200, max_depth=4))]\n",
    ")\n",
    "pipeline"
   ]
  },
  {
   "cell_type": "code",
   "execution_count": 111,
   "id": "443a7264-08d0-432b-9a23-101a68da8c06",
   "metadata": {},
   "outputs": [
    {
     "name": "stdout",
     "output_type": "stream",
     "text": [
      "Training score: 0.7821\n",
      "Testing score: 0.7807\n",
      "Fitting 2 folds for each of 1 candidates, totalling 2 fits\n",
      "Best score from RandomizedSearchCV: 0.8440\n"
     ]
    }
   ],
   "source": [
    "from sklearn.pipeline import Pipeline\n",
    "from sklearn.ensemble import RandomForestClassifier\n",
    "from sklearn.model_selection import RandomizedSearchCV, StratifiedKFold\n",
    "\n",
    "# Define the best parameters from your tuning\n",
    "best_params = {\n",
    "    'ml__min_samples_split': 20,\n",
    "    'ml__min_samples_leaf': 2,\n",
    "    'ml__max_depth': 5\n",
    "}\n",
    "\n",
    "# Create a new pipeline with the winner model and the best parameters\n",
    "pipeline = Pipeline([\n",
    "    ('data_processing', preprocessor),  # Your existing data processing steps\n",
    "    ('ml', RandomForestClassifier(\n",
    "        n_estimators=100,  # Reduced number of trees\n",
    "        max_depth=best_params['ml__max_depth'], \n",
    "        min_samples_split=best_params['ml__min_samples_split'], \n",
    "        min_samples_leaf=best_params['ml__min_samples_leaf']\n",
    "    ))\n",
    "])\n",
    "\n",
    "# Fit the model on a smaller sample of the full training data\n",
    "pipeline.fit(X_train.sample(frac=0.05, random_state=42), y_train.sample(frac=0.05, random_state=42))\n",
    "\n",
    "# Evaluate the model\n",
    "train_score = pipeline.score(X_train, y_train)\n",
    "test_score = pipeline.score(X_test, y_test)\n",
    "\n",
    "# Display the results\n",
    "print(f\"Training score: {train_score:.4f}\")\n",
    "print(f\"Testing score: {test_score:.4f}\")\n",
    "\n",
    "# Optional tuning with RandomizedSearchCV\n",
    "cv_strategy = StratifiedKFold(n_splits=2)  # Keep 2 splits\n",
    "\n",
    "# Initialize RandomizedSearchCV\n",
    "rf_gc = RandomizedSearchCV(\n",
    "    estimator=pipeline,\n",
    "    param_distributions=rf_param_dist,\n",
    "    n_iter=1,  # Only one combination for quick testing\n",
    "    cv=cv_strategy,\n",
    "    scoring='roc_auc',\n",
    "    n_jobs=-1,\n",
    "    verbose=1,\n",
    "    random_state=42\n",
    ")\n",
    "\n",
    "# Fit the model using RandomizedSearchCV with a smaller sample\n",
    "rf_gcv_results = rf_gc.fit(X_train.sample(frac=0.05, random_state=42), y_train.sample(frac=0.05, random_state=42))\n",
    "\n",
    "# Display the best score from RandomizedSearchCV\n",
    "print(f\"Best score from RandomizedSearchCV: {rf_gc.best_score_:.4f}\")\n"
   ]
  },
  {
   "cell_type": "markdown",
   "id": "a526b13d",
   "metadata": {},
   "source": [
    "Explain results\n",
    "\n",
    "The model's training score of 0.7821 and testing score of 0.7807 indicate a relatively consistent performance across both datasets, suggesting that it is not significantly overfitting. This stability is a positive outcome, as it demonstrates the model's ability to generalize well to unseen data. However, these scores are moderate, highlighting that there is room for improvement in the model's predictive capability.\n",
    "\n",
    "In contrast, the best score obtained from `RandomizedSearchCV` is 0.8440, which reflects the model's performance during cross-validation. This higher score suggests that, under optimal conditions, the model has the potential to perform better than what is indicated by the training and testing scores. This discrepancy points to the possibility that the current hyperparameters may not be fully optimized and that further tuning could yield improved results.\n",
    "\n",
    "Overall, while the model demonstrates a solid foundation, the gap between the cross-validation score and the observed training/testing scores signifies an opportunity for enhancement. Exploring additional hyperparameter configurations, different modeling techniques, or feature engineering could lead to better predictive performance. Further experimentation will be key to unlocking the model's full potential."
   ]
  },
  {
   "cell_type": "code",
   "execution_count": null,
   "id": "78f43efa-cdb0-4460-ac51-1b2430b35403",
   "metadata": {},
   "outputs": [],
   "source": []
  }
 ],
 "metadata": {
  "kernelspec": {
   "display_name": "Python 3 (ipykernel)",
   "language": "python",
   "name": "python3"
  },
  "language_info": {
   "codemirror_mode": {
    "name": "ipython",
    "version": 3
   },
   "file_extension": ".py",
   "mimetype": "text/x-python",
   "name": "python",
   "nbconvert_exporter": "python",
   "pygments_lexer": "ipython3",
   "version": "3.11.5"
  },
  "toc": {
   "base_numbering": 1,
   "nav_menu": {},
   "number_sections": false,
   "sideBar": true,
   "skip_h1_title": false,
   "title_cell": "Table of Contents",
   "title_sidebar": "Contents",
   "toc_cell": false,
   "toc_position": {},
   "toc_section_display": true,
   "toc_window_display": true
  }
 },
 "nbformat": 4,
 "nbformat_minor": 5
}
