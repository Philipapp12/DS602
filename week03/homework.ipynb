{
 "cells": [
  {
   "cell_type": "markdown",
   "id": "92665e74",
   "metadata": {},
   "source": [
    "# Week3 - Homework\n",
    "\n",
    "Write a rule based predictor for the dataset below. \n",
    "\n",
    "Choose one of the following datasets and do your EDA. \n",
    "Test your assumptions. \n",
    "\n",
    "Finally write your code in `predict_one` function. \n",
    "\n",
    "Do __NOT__ change the function signature! This function should only take name and return `F` or `M`"
   ]
  },
  {
   "cell_type": "code",
   "execution_count": 1,
   "id": "71cb00e3",
   "metadata": {
    "scrolled": true
   },
   "outputs": [
    {
     "name": "stdout",
     "output_type": "stream",
     "text": [
      "<class 'pandas.core.frame.DataFrame'>\n",
      "RangeIndex: 36277 entries, 0 to 36276\n",
      "Data columns (total 2 columns):\n",
      " #   Column  Non-Null Count  Dtype \n",
      "---  ------  --------------  ----- \n",
      " 0   name    36277 non-null  object\n",
      " 1   gender  36277 non-null  object\n",
      "dtypes: object(2)\n",
      "memory usage: 567.0+ KB\n"
     ]
    }
   ],
   "source": [
    "import pandas as pd\n",
    "import numpy as np\n",
    "from matplotlib import pyplot as plt\n",
    "\n",
    "us_names = 'https://raw.githubusercontent.com/msaricaumbc/DS_data/master/ds602/names/us_names.csv'\n",
    "\n",
    "df = pd.read_csv(us_names)\n",
    "df.dropna(inplace=True)\n",
    "df.info()"
   ]
  },
  {
   "cell_type": "code",
   "execution_count": 2,
   "id": "03ad628a",
   "metadata": {},
   "outputs": [
    {
     "data": {
      "text/plain": [
       "F    21789\n",
       "M    14488\n",
       "Name: gender, dtype: int64"
      ]
     },
     "execution_count": 2,
     "metadata": {},
     "output_type": "execute_result"
    }
   ],
   "source": [
    "df.gender.value_counts()"
   ]
  },
  {
   "cell_type": "markdown",
   "id": "3065ca7f",
   "metadata": {},
   "source": [
    "Not balanced! For simplicity, let's create a sub sample that will contains equal F and M."
   ]
  },
  {
   "cell_type": "code",
   "execution_count": 3,
   "id": "f042ada9",
   "metadata": {},
   "outputs": [],
   "source": [
    "min_count = min(df['gender'].value_counts())\n",
    "\n",
    "df_f = df[df['gender'] == 'F'].sample(min_count, random_state=42)\n",
    "df_m = df[df['gender'] == 'M'].sample(min_count, random_state=42)\n",
    "\n",
    "df = pd.concat([df_f, df_m]).reset_index(drop=True)"
   ]
  },
  {
   "cell_type": "code",
   "execution_count": 4,
   "id": "d88a3635",
   "metadata": {},
   "outputs": [
    {
     "data": {
      "text/plain": [
       "F    14488\n",
       "M    14488\n",
       "Name: gender, dtype: int64"
      ]
     },
     "execution_count": 4,
     "metadata": {},
     "output_type": "execute_result"
    }
   ],
   "source": [
    "df.gender.value_counts()"
   ]
  },
  {
   "cell_type": "code",
   "execution_count": 5,
   "id": "e04e6545",
   "metadata": {},
   "outputs": [
    {
     "data": {
      "text/html": [
       "<div>\n",
       "<style scoped>\n",
       "    .dataframe tbody tr th:only-of-type {\n",
       "        vertical-align: middle;\n",
       "    }\n",
       "\n",
       "    .dataframe tbody tr th {\n",
       "        vertical-align: top;\n",
       "    }\n",
       "\n",
       "    .dataframe thead th {\n",
       "        text-align: right;\n",
       "    }\n",
       "</style>\n",
       "<table border=\"1\" class=\"dataframe\">\n",
       "  <thead>\n",
       "    <tr style=\"text-align: right;\">\n",
       "      <th></th>\n",
       "      <th>name</th>\n",
       "      <th>gender</th>\n",
       "    </tr>\n",
       "  </thead>\n",
       "  <tbody>\n",
       "    <tr>\n",
       "      <th>0</th>\n",
       "      <td>Brennen</td>\n",
       "      <td>F</td>\n",
       "    </tr>\n",
       "    <tr>\n",
       "      <th>1</th>\n",
       "      <td>Chikaima</td>\n",
       "      <td>F</td>\n",
       "    </tr>\n",
       "    <tr>\n",
       "      <th>2</th>\n",
       "      <td>Zoejane</td>\n",
       "      <td>F</td>\n",
       "    </tr>\n",
       "    <tr>\n",
       "      <th>3</th>\n",
       "      <td>Teegan</td>\n",
       "      <td>F</td>\n",
       "    </tr>\n",
       "    <tr>\n",
       "      <th>4</th>\n",
       "      <td>Alanda</td>\n",
       "      <td>F</td>\n",
       "    </tr>\n",
       "  </tbody>\n",
       "</table>\n",
       "</div>"
      ],
      "text/plain": [
       "       name gender\n",
       "0   Brennen      F\n",
       "1  Chikaima      F\n",
       "2   Zoejane      F\n",
       "3    Teegan      F\n",
       "4    Alanda      F"
      ]
     },
     "execution_count": 5,
     "metadata": {},
     "output_type": "execute_result"
    }
   ],
   "source": [
    "df.head()"
   ]
  },
  {
   "cell_type": "markdown",
   "id": "96ce8445",
   "metadata": {},
   "source": [
    "## Part1:\n",
    "\n",
    "Run experiments to select which rules are good seperator for gender."
   ]
  },
  {
   "cell_type": "markdown",
   "id": "8c95c921",
   "metadata": {},
   "source": [
    "### Two examples:"
   ]
  },
  {
   "cell_type": "code",
   "execution_count": 6,
   "id": "88d552f1",
   "metadata": {},
   "outputs": [],
   "source": [
    "df['is_last_letter_vowel'] = [  name[-1:] in 'aeiou' for name in df.name]"
   ]
  },
  {
   "cell_type": "code",
   "execution_count": 7,
   "id": "f8ceae9e",
   "metadata": {},
   "outputs": [
    {
     "data": {
      "text/html": [
       "<div>\n",
       "<style scoped>\n",
       "    .dataframe tbody tr th:only-of-type {\n",
       "        vertical-align: middle;\n",
       "    }\n",
       "\n",
       "    .dataframe tbody tr th {\n",
       "        vertical-align: top;\n",
       "    }\n",
       "\n",
       "    .dataframe thead th {\n",
       "        text-align: right;\n",
       "    }\n",
       "</style>\n",
       "<table border=\"1\" class=\"dataframe\">\n",
       "  <thead>\n",
       "    <tr style=\"text-align: right;\">\n",
       "      <th></th>\n",
       "      <th>name</th>\n",
       "      <th>gender</th>\n",
       "      <th>is_last_letter_vowel</th>\n",
       "    </tr>\n",
       "  </thead>\n",
       "  <tbody>\n",
       "    <tr>\n",
       "      <th>0</th>\n",
       "      <td>Brennen</td>\n",
       "      <td>F</td>\n",
       "      <td>False</td>\n",
       "    </tr>\n",
       "    <tr>\n",
       "      <th>1</th>\n",
       "      <td>Chikaima</td>\n",
       "      <td>F</td>\n",
       "      <td>True</td>\n",
       "    </tr>\n",
       "    <tr>\n",
       "      <th>2</th>\n",
       "      <td>Zoejane</td>\n",
       "      <td>F</td>\n",
       "      <td>True</td>\n",
       "    </tr>\n",
       "    <tr>\n",
       "      <th>3</th>\n",
       "      <td>Teegan</td>\n",
       "      <td>F</td>\n",
       "      <td>False</td>\n",
       "    </tr>\n",
       "    <tr>\n",
       "      <th>4</th>\n",
       "      <td>Alanda</td>\n",
       "      <td>F</td>\n",
       "      <td>True</td>\n",
       "    </tr>\n",
       "    <tr>\n",
       "      <th>...</th>\n",
       "      <td>...</td>\n",
       "      <td>...</td>\n",
       "      <td>...</td>\n",
       "    </tr>\n",
       "    <tr>\n",
       "      <th>28971</th>\n",
       "      <td>Arther</td>\n",
       "      <td>M</td>\n",
       "      <td>False</td>\n",
       "    </tr>\n",
       "    <tr>\n",
       "      <th>28972</th>\n",
       "      <td>Jamani</td>\n",
       "      <td>M</td>\n",
       "      <td>True</td>\n",
       "    </tr>\n",
       "    <tr>\n",
       "      <th>28973</th>\n",
       "      <td>Mickeal</td>\n",
       "      <td>M</td>\n",
       "      <td>False</td>\n",
       "    </tr>\n",
       "    <tr>\n",
       "      <th>28974</th>\n",
       "      <td>Chad</td>\n",
       "      <td>M</td>\n",
       "      <td>False</td>\n",
       "    </tr>\n",
       "    <tr>\n",
       "      <th>28975</th>\n",
       "      <td>Leory</td>\n",
       "      <td>M</td>\n",
       "      <td>False</td>\n",
       "    </tr>\n",
       "  </tbody>\n",
       "</table>\n",
       "<p>28976 rows × 3 columns</p>\n",
       "</div>"
      ],
      "text/plain": [
       "           name gender  is_last_letter_vowel\n",
       "0       Brennen      F                 False\n",
       "1      Chikaima      F                  True\n",
       "2       Zoejane      F                  True\n",
       "3        Teegan      F                 False\n",
       "4        Alanda      F                  True\n",
       "...         ...    ...                   ...\n",
       "28971    Arther      M                 False\n",
       "28972    Jamani      M                  True\n",
       "28973   Mickeal      M                 False\n",
       "28974      Chad      M                 False\n",
       "28975     Leory      M                 False\n",
       "\n",
       "[28976 rows x 3 columns]"
      ]
     },
     "execution_count": 7,
     "metadata": {},
     "output_type": "execute_result"
    }
   ],
   "source": [
    "df"
   ]
  },
  {
   "cell_type": "code",
   "execution_count": 8,
   "id": "50fcd092",
   "metadata": {},
   "outputs": [
    {
     "data": {
      "text/plain": [
       "<Axes: xlabel='is_last_letter_vowel', ylabel='count'>"
      ]
     },
     "execution_count": 8,
     "metadata": {},
     "output_type": "execute_result"
    },
    {
     "data": {
      "image/png": "[encoded data removed]",
      "text/plain": [
       "<Figure size 640x480 with 1 Axes>"
      ]
     },
     "metadata": {},
     "output_type": "display_data"
    }
   ],
   "source": [
    "import seaborn as sns\n",
    "\n",
    "sns.countplot(data = df, x = 'is_last_letter_vowel', hue = 'gender')"
   ]
  },
  {
   "cell_type": "markdown",
   "id": "1f8e6476",
   "metadata": {},
   "source": [
    "It looks like last letter is being a vowel is not a good indicator for this dataset!"
   ]
  },
  {
   "cell_type": "code",
   "execution_count": 9,
   "id": "0822aff7",
   "metadata": {},
   "outputs": [
    {
     "data": {
      "text/plain": [
       "<Axes: xlabel='len', ylabel='count'>"
      ]
     },
     "execution_count": 9,
     "metadata": {},
     "output_type": "execute_result"
    },
    {
     "data": {
      "image/png": "[encoded data removed]",
      "text/plain": [
       "<Figure size 640x480 with 1 Axes>"
      ]
     },
     "metadata": {},
     "output_type": "display_data"
    }
   ],
   "source": [
    "df['len'] = [ len(name) for name in df.name]\n",
    "sns.countplot(data = df, x = 'len', hue = 'gender')"
   ]
  },
  {
   "cell_type": "markdown",
   "id": "b036375f",
   "metadata": {},
   "source": [
    "Seems like length doesn't also seem like a good separator"
   ]
  },
  {
   "cell_type": "markdown",
   "id": "c1fbd8e4",
   "metadata": {},
   "source": [
    "## Part2\n",
    "\n",
    "Write the inference function based on the findings..."
   ]
  },
  {
   "cell_type": "code",
   "execution_count": 10,
   "id": "3cfc4e5c",
   "metadata": {},
   "outputs": [],
   "source": [
    "def predict_one(name): # <-- (Don't change the function signature) DO NOT CHANGE THIS LINE\n",
    "    # write your codes below this line....\n",
    "    \n",
    "    return 'M'\n",
    "\n",
    "# print(predict_one('Jasmine'))"
   ]
  },
  {
   "cell_type": "code",
   "execution_count": 11,
   "id": "3889bd65",
   "metadata": {},
   "outputs": [
    {
     "name": "stdout",
     "output_type": "stream",
     "text": [
      "Accuracy: 0.5\n"
     ]
    }
   ],
   "source": [
    "## DO NOT CHANGE ANYTHING IN THIS CELL!!!\n",
    "predictions = [ predict_one(name) for name in df.name]\n",
    "accuracy = sum(df.gender == predictions) / len(df)\n",
    "print(f\"Accuracy: {accuracy}\")"
   ]
  },
  {
   "cell_type": "markdown",
   "id": "be0dc662",
   "metadata": {},
   "source": [
    "## Part3 \n",
    "\n",
    "\n",
    "Write the above function in any other language other than python with a small demo.\n",
    "\n",
    "Or preferably in javascript as it is easy to present. \n",
    "\n",
    "Here is the starter code. \n",
    "\n",
    "* Open a new file in week3 folder name it `name_predictor.html`\n",
    "\n",
    "* Fill the `predictOne` function based on the function above\n",
    "\n",
    "* Save and double click on the html file to test it.\n"
   ]
  },
  {
   "cell_type": "raw",
   "id": "5488cbf8",
   "metadata": {},
   "source": [
    "<!DOCTYPE html>\n",
    "<html lang=\"en\">\n",
    "\n",
    "<head>\n",
    "    <title>Gender Prediction</title>\n",
    "    <!-- Bootstrap CSS -->\n",
    "    <link href=\"https://maxcdn.bootstrapcdn.com/bootstrap/4.5.2/css/bootstrap.min.css\" rel=\"stylesheet\">\n",
    "</head>\n",
    "\n",
    "<body class=\"container py-5\">\n",
    "\n",
    "    <div class=\"form-group\">\n",
    "        <label for=\"inputBox\" class=\"font-weight-bold\">Enter Name:</label>\n",
    "        <input type=\"text\" \n",
    "               id=\"inputBox\" \n",
    "               class=\"form-control\" \n",
    "               placeholder=\"Type name...\" \n",
    "               oninput=\"runInference()\">\n",
    "    </div>\n",
    "    <div id=\"result\" class=\"alert alert-info mt-3\">Prediction: </div>\n",
    "\n",
    "    <script>\n",
    "        function runInference() {\n",
    "            const input = document.getElementById('inputBox').value;\n",
    "            const prediction = predictOne(input);\n",
    "\n",
    "            document.getElementById('result').textContent = `Prediction: ${prediction}`;\n",
    "        }\n",
    "\n",
    "        function predictOne(name) {\n",
    "            if (typeof name !== 'string') return;\n",
    "            name = name.toLowerCase();\n",
    "            // enter your code here....\n",
    "\n",
    "            // sample - check if the last letter is a vowel\n",
    "            if (name.match(/[aeiou]$/)) {\n",
    "                return 'F';\n",
    "            }\n",
    "\n",
    "            return 'M';\n",
    "        }\n",
    "    </script>\n",
    "\n",
    "</body>\n",
    "\n",
    "</html>"
   ]
  },
  {
   "cell_type": "code",
   "execution_count": null,
   "id": "7e998716",
   "metadata": {},
   "outputs": [],
   "source": []
  }
 ],
 "metadata": {
  "kernelspec": {
   "display_name": "Python 3 (ipykernel)",
   "language": "python",
   "name": "python3"
  },
  "language_info": {
   "codemirror_mode": {
    "name": "ipython",
    "version": 3
   },
   "file_extension": ".py",
   "mimetype": "text/x-python",
   "name": "python",
   "nbconvert_exporter": "python",
   "pygments_lexer": "ipython3",
   "version": "3.10.9"
  },
  "toc": {
   "base_numbering": 1,
   "nav_menu": {},
   "number_sections": true,
   "sideBar": true,
   "skip_h1_title": false,
   "title_cell": "Table of Contents",
   "title_sidebar": "Contents",
   "toc_cell": false,
   "toc_position": {},
   "toc_section_display": true,
   "toc_window_display": false
  }
 },
 "nbformat": 4,
 "nbformat_minor": 5
}
