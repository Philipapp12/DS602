{
 "cells": [
  {
   "cell_type": "markdown",
   "id": "8e7f603f-6d17-43d7-b555-0d3219a99983",
   "metadata": {},
   "source": [
    "## Homework 12\n",
    "\n",
    "https://scikit-learn.org/0.15/modules/scaling_strategies.html#incremental-learning\n",
    "\n",
    "Implement a mini batch functionality to train a regressor.\n",
    "\n",
    "(Optional) If anyone want to do this in a pipeline can do this: https://koaning.github.io/tokenwiser/api/pipeline.html\n",
    "\n",
    "Save model, load the model again and test it on X_test Do NOT commit the pickle file"
   ]
  },
  {
   "cell_type": "code",
   "execution_count": 93,
   "id": "0b77b118-d83d-442c-8e3a-13277853fe8e",
   "metadata": {},
   "outputs": [],
   "source": [
    "import pandas as pd\n",
    "import numpy as np\n",
    "from sklearn.ensemble import RandomForestRegressor\n",
    "from sklearn.metrics import mean_squared_error\n",
    "from sklearn.model_selection import train_test_split\n",
    "from sklearn.preprocessing import OneHotEncoder\n",
    "from sklearn.compose import ColumnTransformer\n",
    "from sklearn.pipeline import Pipeline\n",
    "from sklearn.impute import SimpleImputer"
   ]
  },
  {
   "cell_type": "code",
   "execution_count": null,
   "id": "3c2fe2a0-52be-4b92-aa95-a419a6c4dd45",
   "metadata": {},
   "outputs": [],
   "source": [
    "# Function to load and preprocess data\n",
    "def test_df():\n",
    "    df = pd.read_csv('https://raw.githubusercontent.com/msaricaumbc/DS_data/master/ds602/car_prices/car_prices.csv', low_memory=False)\n",
    "\n",
    "    df = df.sample(5000, random_state=100).reset_index(drop=True)\n",
    "    \n",
    "    y = df['sellingprice']\n",
    "    X = df.drop('sellingprice', axis=1)\n",
    "    \n",
    "    return X, y\n",
    "\n",
    "# Generator to yield mini-batches of the data\n",
    "def partial_df():\n",
    "    df = pd.read_csv('https://raw.githubusercontent.com/msaricaumbc/DS_data/master/ds602/car_prices/car_prices.csv', low_memory=False)\n",
    "\n",
    "    while True:\n",
    "        yield df.sample(100).reset_index(drop=True)\n",
    "\n",
    "# Initialize the generator\n",
    "gen = partial_df()"
   ]
  },
  {
   "cell_type": "code",
   "execution_count": 80,
   "id": "b98ff352-0b5d-428b-a902-133d6ce885af",
   "metadata": {},
   "outputs": [
    {
     "name": "stdout",
     "output_type": "stream",
     "text": [
      "Mean Squared Error on Test Set: 47302513.22288998\n"
     ]
    }
   ],
   "source": [
    "X_test, y_test = test_df()\n",
    "\n",
    "# Split the data into numerical and categorical features\n",
    "categorical_features = X_test.select_dtypes(include=['object']).columns.tolist()\n",
    "numerical_features = X_test.select_dtypes(exclude=['object']).columns.tolist()\n",
    "\n",
    "# Create a preprocessor for the pipeline\n",
    "preprocessor = ColumnTransformer(\n",
    "    transformers=[\n",
    "        ('num', Pipeline(steps=[\n",
    "            ('imputer', SimpleImputer(strategy='mean')),  # Impute missing values by taking the mean\n",
    "            ('pass', 'passthrough')  # Pass numerical features as is after imputation\n",
    "        ]), numerical_features),\n",
    "        ('cat', Pipeline(steps=[\n",
    "            ('imputer', SimpleImputer(strategy='most_frequent')),  # Impute missing values with the most frequent value\n",
    "            ('onehot', OneHotEncoder(handle_unknown='ignore'))  # One-Hot Encoding to categorical features\n",
    "        ]), categorical_features)\n",
    "    ])\n",
    "\n",
    "# Initialize the regressor pipeline\n",
    "model = Pipeline(steps=[\n",
    "    ('preprocessor', preprocessor),\n",
    "    ('regressor', RandomForestRegressor(n_estimators=100, random_state=42))\n",
    "])\n",
    "\n",
    "# Number of mini-batches\n",
    "n_batches = 50  # For example, train on 50 mini-batches\n",
    "\n",
    "for _ in range(n_batches):\n",
    "    # Get a mini-batch\n",
    "    mini_batch = next(gen)\n",
    "    \n",
    "    # Separate features and target\n",
    "    y_batch = mini_batch['sellingprice']\n",
    "    X_batch = mini_batch.drop('sellingprice', axis=1)\n",
    "    \n",
    "    # Fit the model on the mini-batch\n",
    "    model.fit(X_batch, y_batch)\n",
    "\n",
    "# After training on mini-batches, evaluate the model\n",
    "y_pred = model.predict(X_test)\n",
    "mse = mean_squared_error(y_test, y_pred)\n",
    "print(f'Mean Squared Error on Test Set: {mse}')"
   ]
  },
  {
   "cell_type": "code",
   "execution_count": 84,
   "id": "f75f06d0-f5c8-485f-9fb1-ac9341c73afe",
   "metadata": {},
   "outputs": [
    {
     "name": "stdout",
     "output_type": "stream",
     "text": [
      "Model saved as 'car_price_model.joblib'.\n",
      "Model loaded from 'car_price_model.joblib'.\n"
     ]
    }
   ],
   "source": [
    "import joblib \n",
    "\n",
    "# Save the model to a file\n",
    "joblib.dump(model, 'car_price_model.joblib')\n",
    "print(\"Model saved as 'car_price_model.joblib'.\")\n",
    "\n",
    "# Load the model from the file\n",
    "loaded_model = joblib.load('car_price_model.joblib')\n",
    "print(\"Model loaded from 'car_price_model.joblib'.\")\n",
    "\n",
    "# Test the loaded model on X_test\n",
    "y_pred = loaded_model.predict(X_test)"
   ]
  },
  {
   "cell_type": "code",
   "execution_count": 86,
   "id": "e60cbcf7-2b6e-45a3-8bc7-a867fd5af85a",
   "metadata": {},
   "outputs": [
    {
     "name": "stdout",
     "output_type": "stream",
     "text": [
      "Model loaded from 'car_price_model.joblib'.\n"
     ]
    }
   ],
   "source": [
    "# Load the test dataset\n",
    "def load_test_data():\n",
    "    df = pd.read_csv('https://raw.githubusercontent.com/msaricaumbc/DS_data/master/ds602/car_prices/car_prices.csv', low_memory=False)\n",
    "    df = df.sample(5000, random_state=100).reset_index(drop=True)\n",
    "    y = df['sellingprice']\n",
    "    X = df.drop('sellingprice', axis=1)\n",
    "    return X, y\n",
    "\n",
    "# Load the model\n",
    "loaded_model = joblib.load('car_price_model.joblib')\n",
    "print(\"Model loaded from 'car_price_model.joblib'.\")\n",
    "\n",
    "# Load the test data\n",
    "X_test, y_test = load_test_data()\n",
    "\n",
    "# Test the loaded model on X_test\n",
    "y_pred = loaded_model.predict(X_test)"
   ]
  },
  {
   "cell_type": "code",
   "execution_count": 88,
   "id": "13ba4d68-de94-4119-9f92-269813b96022",
   "metadata": {},
   "outputs": [
    {
     "name": "stdout",
     "output_type": "stream",
     "text": [
      "Example prediction: Predicted selling price = $10753.01, Actual selling price = $8000.00\n"
     ]
    }
   ],
   "source": [
    "# Print an example of a prediction\n",
    "example_index = 0  # Change this to see predictions for different examples\n",
    "predicted_value = y_pred[example_index]\n",
    "actual_value = y_test.iloc[example_index]\n",
    "\n",
    "print(f\"Example prediction: Predicted selling price = ${predicted_value:.2f}, Actual selling price = ${actual_value:.2f}\")"
   ]
  },
  {
   "cell_type": "code",
   "execution_count": null,
   "id": "9cfc1638-1024-4a0d-a6d6-847818ef87d3",
   "metadata": {},
   "outputs": [],
   "source": []
  }
 ],
 "metadata": {
  "kernelspec": {
   "display_name": "Python 3 (ipykernel)",
   "language": "python",
   "name": "python3"
  },
  "language_info": {
   "codemirror_mode": {
    "name": "ipython",
    "version": 3
   },
   "file_extension": ".py",
   "mimetype": "text/x-python",
   "name": "python",
   "nbconvert_exporter": "python",
   "pygments_lexer": "ipython3",
   "version": "3.11.5"
  }
 },
 "nbformat": 4,
 "nbformat_minor": 5
}
