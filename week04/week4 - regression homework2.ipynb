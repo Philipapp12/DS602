{
 "cells": [
  {
   "cell_type": "markdown",
   "metadata": {},
   "source": [
    "# Week4 - Homework 2\n",
    "\n",
    "- Execute the below code, then answer the numbered questions.\n",
    "- You can create additinal code and markdown blocks"
   ]
  },
  {
   "cell_type": "code",
   "execution_count": 1,
   "metadata": {},
   "outputs": [
    {
     "name": "stdout",
     "output_type": "stream",
     "text": [
      "<class 'pandas.core.frame.DataFrame'>\n",
      "RangeIndex: 48895 entries, 0 to 48894\n",
      "Data columns (total 16 columns):\n",
      " #   Column                          Non-Null Count  Dtype  \n",
      "---  ------                          --------------  -----  \n",
      " 0   id                              48895 non-null  int64  \n",
      " 1   name                            48879 non-null  object \n",
      " 2   host_id                         48895 non-null  int64  \n",
      " 3   host_name                       48874 non-null  object \n",
      " 4   neighbourhood_group             48895 non-null  object \n",
      " 5   neighbourhood                   48895 non-null  object \n",
      " 6   latitude                        48895 non-null  float64\n",
      " 7   longitude                       48895 non-null  float64\n",
      " 8   room_type                       48895 non-null  object \n",
      " 9   price                           48895 non-null  int64  \n",
      " 10  minimum_nights                  48895 non-null  int64  \n",
      " 11  number_of_reviews               48895 non-null  int64  \n",
      " 12  last_review                     38843 non-null  object \n",
      " 13  reviews_per_month               38843 non-null  float64\n",
      " 14  calculated_host_listings_count  48895 non-null  int64  \n",
      " 15  availability_365                48895 non-null  int64  \n",
      "dtypes: float64(3), int64(7), object(6)\n",
      "memory usage: 6.0+ MB\n"
     ]
    }
   ],
   "source": [
    "import pandas as pd\n",
    "\n",
    "df = pd.read_csv('https://raw.githubusercontent.com/msaricaumbc/DS_data/master/ds602/regression/airbnb_nyc_2019.csv')\n",
    "df.info()"
   ]
  },
  {
   "cell_type": "markdown",
   "metadata": {},
   "source": [
    "## Question 1:\n",
    "### Which features can we use?"
   ]
  },
  {
   "cell_type": "code",
   "execution_count": 7,
   "metadata": {},
   "outputs": [
    {
     "name": "stdout",
     "output_type": "stream",
     "text": [
      "Missing values per column:\n",
      "id                                0\n",
      "name                              0\n",
      "host_id                           0\n",
      "host_name                         0\n",
      "neighbourhood_group               0\n",
      "neighbourhood                     0\n",
      "latitude                          0\n",
      "longitude                         0\n",
      "room_type                         0\n",
      "price                             0\n",
      "minimum_nights                    0\n",
      "number_of_reviews                 0\n",
      "last_review                       0\n",
      "reviews_per_month                 0\n",
      "calculated_host_listings_count    0\n",
      "availability_365                  0\n",
      "dtype: int64\n",
      "\n",
      "Missing values after imputation:\n",
      "id                                0\n",
      "name                              0\n",
      "host_id                           0\n",
      "host_name                         0\n",
      "neighbourhood_group               0\n",
      "neighbourhood                     0\n",
      "latitude                          0\n",
      "longitude                         0\n",
      "room_type                         0\n",
      "price                             0\n",
      "minimum_nights                    0\n",
      "number_of_reviews                 0\n",
      "last_review                       0\n",
      "reviews_per_month                 0\n",
      "calculated_host_listings_count    0\n",
      "availability_365                  0\n",
      "dtype: int64\n"
     ]
    }
   ],
   "source": [
    "# Check for missing values\n",
    "print(\"Missing values per column:\")\n",
    "print(df.isnull().sum())\n",
    "\n",
    "# Handle Missing Values\n",
    "# For numerical features, we will fill missing values with the mean\n",
    "df['reviews_per_month'].fillna(df['reviews_per_month'].mean(), inplace=True)\n",
    "\n",
    "# For categorical features, we will fill missing values with the mode (most frequent value)\n",
    "df['name'].fillna('Unknown', inplace=True)  # Or you can choose to drop this column entirely\n",
    "df['host_name'].fillna('Unknown', inplace=True)\n",
    "df['last_review'].fillna('No Review', inplace=True)\n",
    "\n",
    "# Verify no missing values remain\n",
    "print(\"\\nMissing values after imputation:\")\n",
    "print(df.isnull().sum())\n",
    "\n",
    "# Step 4: Proceed with your previous preprocessing steps (encoding, etc.)"
   ]
  },
  {
   "cell_type": "markdown",
   "metadata": {},
   "source": [
    "# analysis code\n",
    "\n",
    "In a dataset where we are predicting property prices, the selection of features plays a crucial role in the model's performance. **Numerical features** such as `latitude`, `longitude`, `minimum_nights`, `number_of_reviews`, `reviews_per_month`, `calculated_host_listings_count`, and `availability_365` can provide valuable quantitative insights into the price. For example, `latitude` and `longitude` can help identify the geographical location's influence on property prices, as certain neighborhoods may be more desirable than others. `Minimum_nights` may indicate the kind of rental availability, while `number_of_reviews` and `reviews_per_month` can serve as proxies for the property’s popularity and quality, which often correlate with price. Similarly, `calculated_host_listings_count` might reflect a host’s activity level and credibility, impacting their listing's perceived value.\n",
    "\n",
    "Additionally, **categorical features** such as `neighbourhood_group`, `neighbourhood`, and `room_type` are equally important as they encapsulate qualitative aspects of the listings that can significantly influence prices. The neighborhood of a property often correlates with various factors such as safety, amenities, and overall desirability, making it a key feature for price prediction. Similarly, the `room_type` (e.g., entire home/apt, private room, shared room) can greatly affect the expected price level, with entire homes usually commanding higher prices than shared accommodations. By employing techniques such as one-hot encoding, we can transform these categorical variables into a numerical format suitable for machine learning models, allowing them to learn from and leverage these features effectively. Thus, a combination of well-selected numerical and categorical features provides a robust foundation for accurately predicting property prices."
   ]
  },
  {
   "cell_type": "markdown",
   "metadata": {},
   "source": [
    "Your explanation?"
   ]
  },
  {
   "cell_type": "code",
   "execution_count": 11,
   "metadata": {},
   "outputs": [
    {
     "name": "stdout",
     "output_type": "stream",
     "text": [
      "Records in training data: 39,116\n",
      "Records in test data: 9,779\n",
      "\n",
      "Features:\n",
      "latitude\n",
      "longitude\n",
      "minimum_nights\n",
      "number_of_reviews\n",
      "reviews_per_month\n",
      "calculated_host_listings_count\n",
      "availability_365\n",
      "neighbourhood_group\n",
      "neighbourhood\n",
      "room_type\n"
     ]
    }
   ],
   "source": [
    "from sklearn.model_selection import train_test_split\n",
    "\n",
    "# Selected features for the model\n",
    "features = [\n",
    "    'latitude', \n",
    "    'longitude', \n",
    "    'minimum_nights', \n",
    "    'number_of_reviews', \n",
    "    'reviews_per_month', \n",
    "    'calculated_host_listings_count', \n",
    "    'availability_365', \n",
    "    'neighbourhood_group', \n",
    "    'neighbourhood', \n",
    "    'room_type'\n",
    "]\n",
    "\n",
    "X = df[features]\n",
    "y = df['price']\n",
    "\n",
    "# Splitting the data into training and testing sets\n",
    "X_train, X_test, y_train, y_test = train_test_split(X, y, test_size=0.2, random_state=100)\n",
    "\n",
    "print(f'Records in training data: {X_train.shape[0]:,}')\n",
    "print(f'Records in test data: {X_test.shape[0]:,}')\n",
    "print('\\nFeatures:')\n",
    "print(*X_train.columns, sep='\\n')"
   ]
  },
  {
   "cell_type": "markdown",
   "metadata": {},
   "source": [
    "## Question 2: \n",
    "Split the features into two lists, one for the numerical features and another for the categorical features."
   ]
  },
  {
   "cell_type": "code",
   "execution_count": 13,
   "metadata": {},
   "outputs": [
    {
     "name": "stdout",
     "output_type": "stream",
     "text": [
      "Records in training data: 39,116\n",
      "Records in test data: 9,779\n",
      "\n",
      "Features:\n",
      "Numerical Features:\n",
      "latitude\n",
      "longitude\n",
      "minimum_nights\n",
      "number_of_reviews\n",
      "reviews_per_month\n",
      "calculated_host_listings_count\n",
      "availability_365\n",
      "\n",
      "Categorical Features:\n",
      "neighbourhood_group\n",
      "neighbourhood\n",
      "room_type\n"
     ]
    }
   ],
   "source": [
    "# insert code here\n",
    "\n",
    "# Numerical features\n",
    "numerical_features = [\n",
    "    'latitude', \n",
    "    'longitude', \n",
    "    'minimum_nights', \n",
    "    'number_of_reviews', \n",
    "    'reviews_per_month', \n",
    "    'calculated_host_listings_count', \n",
    "    'availability_365'\n",
    "]\n",
    "\n",
    "# Categorical features\n",
    "categorical_features = [\n",
    "    'neighbourhood_group', \n",
    "    'neighbourhood', \n",
    "    'room_type'\n",
    "]\n",
    "\n",
    "# Combined feature list for easy access if needed\n",
    "features = numerical_features + categorical_features\n",
    "\n",
    "# Selecting the features for the model\n",
    "X = df[features]\n",
    "y = df['price']\n",
    "\n",
    "# Splitting the data into training and testing sets\n",
    "X_train, X_test, y_train, y_test = train_test_split(X, y, test_size=0.2, random_state=100)\n",
    "\n",
    "print(f'Records in training data: {X_train.shape[0]:,}')\n",
    "print(f'Records in test data: {X_test.shape[0]:,}')\n",
    "print('\\nFeatures:')\n",
    "print('Numerical Features:')\n",
    "print(*X_train[numerical_features].columns, sep='\\n')\n",
    "print('\\nCategorical Features:')\n",
    "print(*X_train[categorical_features].columns, sep='\\n')"
   ]
  },
  {
   "cell_type": "markdown",
   "metadata": {},
   "source": [
    "## Question 3: \n",
    " Using the numerical variables, create a pipeline that replaces the missing values with the median and then standardizes the values using a standard scaler."
   ]
  },
  {
   "cell_type": "code",
   "execution_count": 15,
   "metadata": {},
   "outputs": [
    {
     "name": "stdout",
     "output_type": "stream",
     "text": [
      "Transformed training data shape: (39116, 7)\n",
      "Transformed test data shape: (9779, 7)\n"
     ]
    }
   ],
   "source": [
    "# insert code here\n",
    "\n",
    "import pandas as pd\n",
    "from sklearn.model_selection import train_test_split\n",
    "from sklearn.pipeline import Pipeline\n",
    "from sklearn.compose import ColumnTransformer\n",
    "from sklearn.impute import SimpleImputer\n",
    "from sklearn.preprocessing import StandardScaler\n",
    "\n",
    "# Numerical features\n",
    "numerical_features = [\n",
    "    'latitude', \n",
    "    'longitude', \n",
    "    'minimum_nights', \n",
    "    'number_of_reviews', \n",
    "    'reviews_per_month', \n",
    "    'calculated_host_listings_count', \n",
    "    'availability_365'\n",
    "]\n",
    "\n",
    "# Splitting data into features and target variable\n",
    "X = df[numerical_features]\n",
    "y = df['price']\n",
    "\n",
    "# Splitting the data into training and testing sets\n",
    "X_train, X_test, y_train, y_test = train_test_split(X, y, test_size=0.2, random_state=100)\n",
    "\n",
    "# Creating the pipeline for numerical features\n",
    "numerical_pipeline = Pipeline(steps=[\n",
    "    ('imputer', SimpleImputer(strategy='median')),  # Replace missing values with median\n",
    "    ('scaler', StandardScaler())                    # Standardize the values\n",
    "])\n",
    "\n",
    "# Creating a ColumnTransformer to apply the pipeline to the numerical features\n",
    "preprocessor = ColumnTransformer(\n",
    "    transformers=[\n",
    "        ('num', numerical_pipeline, numerical_features)  # Apply the numerical pipeline to numerical features\n",
    "    ]\n",
    ")\n",
    "\n",
    "# Fit and transform the training data and transform the test data\n",
    "X_train_transformed = preprocessor.fit_transform(X_train)\n",
    "X_test_transformed = preprocessor.transform(X_test)\n",
    "\n",
    "# Output the shape of the transformed datasets\n",
    "print(f'Transformed training data shape: {X_train_transformed.shape}')\n",
    "print(f'Transformed test data shape: {X_test_transformed.shape}')"
   ]
  },
  {
   "cell_type": "markdown",
   "metadata": {},
   "source": [
    "## Question 4: \n",
    "Using the categorical variables, create a pipeline that replaces the missing values with the most frequent and then use one-hot encoding to convert the data to numerical arrays.\n",
    "- You should be dropping one category from each variable when using the one-hot encoder.  \n",
    "- To ensure the pipeline doesn't break when it receives new/unexpected categories, you should ignore new categories.\n",
    "- Use a fit transformer on the training dataset to validate all the columns are now numeric and to determine how many columns the transformed data contains."
   ]
  },
  {
   "cell_type": "code",
   "execution_count": 19,
   "metadata": {},
   "outputs": [
    {
     "name": "stdout",
     "output_type": "stream",
     "text": [
      "Transformed training data shape: (39116, 224)\n",
      "Transformed test data shape: (9779, 224)\n",
      "Number of columns in transformed training data: 224\n"
     ]
    },
    {
     "name": "stderr",
     "output_type": "stream",
     "text": [
      "C:\\Users\\phili\\anaconda3\\Lib\\site-packages\\sklearn\\preprocessing\\_encoders.py:227: UserWarning: Found unknown categories in columns [1] during transform. These unknown categories will be encoded as all zeros\n",
      "  warnings.warn(\n"
     ]
    }
   ],
   "source": [
    "# insert code here\n",
    "\n",
    "from sklearn.preprocessing import OneHotEncoder\n",
    "\n",
    "# Assuming df is your DataFrame and it already contains the relevant data\n",
    "\n",
    "# Categorical features\n",
    "categorical_features = [\n",
    "    'neighbourhood_group', \n",
    "    'neighbourhood', \n",
    "    'room_type'\n",
    "]\n",
    "\n",
    "# Splitting data into features and target variable\n",
    "X = df[categorical_features]\n",
    "y = df['price']\n",
    "\n",
    "# Splitting the data into training and testing sets\n",
    "X_train, X_test, y_train, y_test = train_test_split(X, y, test_size=0.2, random_state=100)\n",
    "\n",
    "# Creating the pipeline for categorical features\n",
    "categorical_pipeline = Pipeline(steps=[\n",
    "    ('imputer', SimpleImputer(strategy='most_frequent')),  # Replace missing values with the most frequent value\n",
    "    ('onehot', OneHotEncoder(handle_unknown='ignore', drop='first'))  # One-hot encode and drop one category to avoid dummy variable trap\n",
    "])\n",
    "\n",
    "# Creating a ColumnTransformer to apply the pipeline to the categorical features\n",
    "preprocessor = ColumnTransformer(\n",
    "    transformers=[\n",
    "        ('cat', categorical_pipeline, categorical_features)  # Apply the categorical pipeline to categorical features\n",
    "    ]\n",
    ")\n",
    "\n",
    "# Fit and transform the training data and transform the test data\n",
    "X_train_transformed = preprocessor.fit_transform(X_train)\n",
    "X_test_transformed = preprocessor.transform(X_test)\n",
    "\n",
    "# Output the shape of the transformed datasets and the number of columns in the transformed training data\n",
    "print(f'Transformed training data shape: {X_train_transformed.shape}')\n",
    "print(f'Transformed test data shape: {X_test_transformed.shape}')\n",
    "print(f'Number of columns in transformed training data: {X_train_transformed.shape[1]}')"
   ]
  },
  {
   "cell_type": "markdown",
   "metadata": {},
   "source": [
    "## Question 5: \n",
    "\n",
    "Combine the numerical and categorical pipelines into one data processing pipeline.\n",
    "- Use a fit transformers and the training dataset to verify the data has no missing values and the correct number of columns."
   ]
  },
  {
   "cell_type": "code",
   "execution_count": 21,
   "metadata": {},
   "outputs": [
    {
     "name": "stderr",
     "output_type": "stream",
     "text": [
      "C:\\Users\\phili\\anaconda3\\Lib\\site-packages\\sklearn\\preprocessing\\_encoders.py:227: UserWarning: Found unknown categories in columns [1] during transform. These unknown categories will be encoded as all zeros\n",
      "  warnings.warn(\n"
     ]
    },
    {
     "name": "stdout",
     "output_type": "stream",
     "text": [
      "Transformed training data shape: (39116, 231)\n",
      "Transformed test data shape: (9779, 231)\n",
      "Total missing values in transformed training data: 0\n",
      "Number of columns in transformed training data: 231\n",
      "Expected number of columns after transformation: 231\n",
      "Actual number of columns after transformation: 231\n"
     ]
    }
   ],
   "source": [
    "# insert code here\n",
    "\n",
    "numerical_features = [\n",
    "    'latitude', \n",
    "    'longitude', \n",
    "    'minimum_nights', \n",
    "    'number_of_reviews', \n",
    "    'reviews_per_month', \n",
    "    'calculated_host_listings_count', \n",
    "    'availability_365'\n",
    "]\n",
    "\n",
    "categorical_features = [\n",
    "    'neighbourhood_group', \n",
    "    'neighbourhood', \n",
    "    'room_type'\n",
    "]\n",
    "\n",
    "# Splitting data into features and target variable\n",
    "X = df[numerical_features + categorical_features]\n",
    "y = df['price']\n",
    "\n",
    "# Splitting the data into training and testing sets\n",
    "X_train, X_test, y_train, y_test = train_test_split(X, y, test_size=0.2, random_state=100)\n",
    "\n",
    "# Creating the numerical pipeline\n",
    "numerical_pipeline = Pipeline(steps=[\n",
    "    ('imputer', SimpleImputer(strategy='median')),  # Replace missing values with median\n",
    "    ('scaler', StandardScaler())                    # Standardize the values\n",
    "])\n",
    "\n",
    "# Creating the categorical pipeline\n",
    "categorical_pipeline = Pipeline(steps=[\n",
    "    ('imputer', SimpleImputer(strategy='most_frequent')),  # Replace missing values with most frequent value\n",
    "    ('onehot', OneHotEncoder(handle_unknown='ignore', drop='first'))  # One-hot encoding\n",
    "])\n",
    "\n",
    "# Combining both pipelines into a single ColumnTransformer\n",
    "preprocessor = ColumnTransformer(\n",
    "    transformers=[\n",
    "        ('num', numerical_pipeline, numerical_features),  # Numerical features\n",
    "        ('cat', categorical_pipeline, categorical_features)  # Categorical features\n",
    "    ]\n",
    ")\n",
    "\n",
    "# Fit and transform the training data and transform the test data\n",
    "X_train_transformed = preprocessor.fit_transform(X_train)\n",
    "X_test_transformed = preprocessor.transform(X_test)\n",
    "\n",
    "# Output the shape of the transformed datasets\n",
    "print(f'Transformed training data shape: {X_train_transformed.shape}')\n",
    "print(f'Transformed test data shape: {X_test_transformed.shape}')\n",
    "\n",
    "# Verifying there are no missing values and checking the number of columns\n",
    "# Convert to a DataFrame to easily inspect\n",
    "X_train_transformed_df = pd.DataFrame(X_train_transformed)\n",
    "\n",
    "# Confirm no missing values\n",
    "missing_values = X_train_transformed_df.isnull().sum().sum()\n",
    "print(f'Total missing values in transformed training data: {missing_values}')\n",
    "\n",
    "# Confirm the correct number of columns\n",
    "correct_num_columns = X_train.shape[1]  # Number of features before transformation\n",
    "# The actual number of columns can differ due to one-hot encoding. \n",
    "# Let's print the resulting number.\n",
    "num_columns_after_transformation = X_train_transformed.shape[1]\n",
    "print(f'Number of columns in transformed training data: {num_columns_after_transformation}')\n",
    "\n",
    "# Ensure you understand how the transformed columns relate to the original columns\n",
    "# For categorical features, you can get the new feature names from OneHotEncoder\n",
    "all_column_names = (\n",
    "    numerical_features + \n",
    "    list(preprocessor.named_transformers_['cat'].named_steps['onehot'].get_feature_names_out(categorical_features))\n",
    ")\n",
    "\n",
    "print(f'Expected number of columns after transformation: {len(all_column_names)}')\n",
    "print(f'Actual number of columns after transformation: {num_columns_after_transformation}')"
   ]
  },
  {
   "cell_type": "markdown",
   "metadata": {},
   "source": [
    "## Question 6: \n",
    "\n",
    "Add a linear regression model to the pipeline.\n",
    "- Report what the $R^2$ is using the `test` data.  "
   ]
  },
  {
   "cell_type": "code",
   "execution_count": 27,
   "metadata": {},
   "outputs": [
    {
     "name": "stdout",
     "output_type": "stream",
     "text": [
      "R² Score on test data: 0.1046\n"
     ]
    },
    {
     "name": "stderr",
     "output_type": "stream",
     "text": [
      "C:\\Users\\phili\\anaconda3\\Lib\\site-packages\\sklearn\\preprocessing\\_encoders.py:227: UserWarning: Found unknown categories in columns [1] during transform. These unknown categories will be encoded as all zeros\n",
      "  warnings.warn(\n"
     ]
    }
   ],
   "source": [
    "from sklearn.linear_model import LinearRegression\n",
    "from sklearn.metrics import r2_score\n",
    "\n",
    "# Creating the final pipeline which includes preprocessing and the linear regression model\n",
    "pipeline = Pipeline(steps=[\n",
    "    ('preprocessor', preprocessor),\n",
    "    ('regressor', LinearRegression())\n",
    "])\n",
    "\n",
    "# Fit the pipeline on the training data\n",
    "pipeline.fit(X_train, y_train)\n",
    "\n",
    "# Predict on the test data\n",
    "y_pred = pipeline.predict(X_test)\n",
    "\n",
    "# Calculate the R² score\n",
    "r2 = r2_score(y_test, y_pred)\n",
    "print(f'R² Score on test data: {r2:.4f}')"
   ]
  },
  {
   "cell_type": "markdown",
   "metadata": {},
   "source": [
    "## Question 7: \n",
    "\n",
    "Create a plot(s) of the residuals. Do you have any concerns about patterns in the residuals that the model is neglecting to pick-up?\n",
    "- Include a sentence or two on what you observe."
   ]
  },
  {
   "cell_type": "code",
   "execution_count": 33,
   "metadata": {},
   "outputs": [
    {
     "name": "stderr",
     "output_type": "stream",
     "text": [
      "C:\\Users\\phili\\AppData\\Local\\Temp\\ipykernel_17996\\1851600481.py:29: UserWarning: The figure layout has changed to tight\n",
      "  plt.tight_layout()\n"
     ]
    },
    {
     "data": {
      "image/png": "[encoded data removed]",
      "text/plain": [
       "<Figure size 1200x600 with 2 Axes>"
      ]
     },
     "metadata": {},
     "output_type": "display_data"
    }
   ],
   "source": [
    "# insert code here\n",
    "\n",
    "import matplotlib.pyplot as plt\n",
    "import seaborn as sns\n",
    "\n",
    "# Calculate residuals\n",
    "residuals = y_test - y_pred\n",
    "\n",
    "# Create a scatter plot of predicted values vs residuals\n",
    "plt.figure(figsize=(12, 6))\n",
    "\n",
    "# Scatter plot\n",
    "plt.subplot(1, 2, 1)\n",
    "plt.scatter(y_pred, residuals, alpha=0.5)\n",
    "plt.axhline(0, color='red', linestyle='--')\n",
    "plt.title('Residuals vs Predicted Values')\n",
    "plt.xlabel('Predicted Values')\n",
    "plt.ylabel('Residuals')\n",
    "plt.grid()\n",
    "plt.tight_layout()\n",
    "\n",
    "# Histogram of residuals\n",
    "plt.subplot(1, 2, 2)\n",
    "sns.histplot(residuals, bins=30, kde=True)\n",
    "plt.axvline(0, color='red', linestyle='--')\n",
    "plt.title('Histogram of Residuals')\n",
    "plt.xlabel('Residuals')\n",
    "plt.ylabel('Frequency')\n",
    "plt.tight_layout()\n",
    "\n",
    "plt.show()"
   ]
  },
  {
   "cell_type": "markdown",
   "metadata": {},
   "source": [
    "Insert description here.\n",
    "\n",
    "The residuals vs. predicted values plot serves as a diagnostic tool for assessing the performance of the linear regression model. Ideally, the residuals should be randomly scattered around zero, indicating that the model has effectively captured the underlying trends in the data. However, the presence of distinct patterns, such as funnel shapes or curvature, suggests that significant aspects of the data, like non-linear relationships or interaction effects, may not have been adequately accounted for by the model.\n",
    "\n",
    "Similarly, the histogram of residuals should approximate a normal distribution centered around zero. Any deviations from this norm—such as skewness or bimodality—can signal issues with the model assumptions and hint at problems like heteroscedasticity, where the variance of residuals is not constant. Observing clear patterns in the residuals indicates that linear regression may not be the optimal choice for this data set, necessitating the exploration of more complex models or additional feature engineering strategies, such as incorporating polynomial features or interaction terms, to enhance predictive performance."
   ]
  },
  {
   "cell_type": "markdown",
   "metadata": {},
   "source": [
    "## Question 8: \n",
    "\n",
    "Modify the pipeline to use a ridge regression model with an alpha value of 100. How does this change the $R^2$?"
   ]
  },
  {
   "cell_type": "code",
   "execution_count": 42,
   "metadata": {},
   "outputs": [
    {
     "name": "stdout",
     "output_type": "stream",
     "text": [
      "R² score after Ridge regression with alpha=100: 0.10471386725434595\n"
     ]
    },
    {
     "name": "stderr",
     "output_type": "stream",
     "text": [
      "C:\\Users\\phili\\anaconda3\\Lib\\site-packages\\sklearn\\preprocessing\\_encoders.py:227: UserWarning: Found unknown categories in columns [1] during transform. These unknown categories will be encoded as all zeros\n",
      "  warnings.warn(\n"
     ]
    }
   ],
   "source": [
    "from sklearn.linear_model import Ridge\n",
    "\n",
    "# Create a Ridge regression pipeline with alpha = 100\n",
    "ridge_pipeline = Pipeline(steps=[\n",
    "    ('preprocessor', preprocessor),\n",
    "    ('ridge', Ridge(alpha=100))\n",
    "])\n",
    "\n",
    "# Fit the Ridge model\n",
    "ridge_pipeline.fit(X_train, y_train)\n",
    "\n",
    "# Make predictions\n",
    "y_ridge_pred = ridge_pipeline.predict(X_test)\n",
    "\n",
    "# Calculate R² score for Ridge regression\n",
    "ridge_r2 = r2_score(y_test, y_ridge_pred)\n",
    "print(f'R² score after Ridge regression with alpha=100: {ridge_r2}')"
   ]
  },
  {
   "cell_type": "code",
   "execution_count": null,
   "metadata": {},
   "outputs": [],
   "source": []
  },
  {
   "cell_type": "code",
   "execution_count": null,
   "metadata": {},
   "outputs": [],
   "source": []
  }
 ],
 "metadata": {
  "kernelspec": {
   "display_name": "Python 3 (ipykernel)",
   "language": "python",
   "name": "python3"
  },
  "language_info": {
   "codemirror_mode": {
    "name": "ipython",
    "version": 3
   },
   "file_extension": ".py",
   "mimetype": "text/x-python",
   "name": "python",
   "nbconvert_exporter": "python",
   "pygments_lexer": "ipython3",
   "version": "3.11.5"
  },
  "toc": {
   "base_numbering": 1,
   "nav_menu": {},
   "number_sections": true,
   "sideBar": true,
   "skip_h1_title": false,
   "title_cell": "Table of Contents",
   "title_sidebar": "Contents",
   "toc_cell": false,
   "toc_position": {},
   "toc_section_display": true,
   "toc_window_display": false
  }
 },
 "nbformat": 4,
 "nbformat_minor": 4
}
