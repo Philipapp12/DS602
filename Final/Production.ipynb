{
 "cells": [
  {
   "cell_type": "code",
   "execution_count": null,
   "id": "e390dfc6-ce55-4de8-b240-f2c8136aab33",
   "metadata": {},
   "outputs": [],
   "source": [
    "import pickle\n",
    "from sklearn.metrics import classification_report\n",
    "\n",
    "X_path='https://raw.githubusercontent.com/msaricaumbc/DS_data/master/ds602/final4/employee_departure_dataset_X_prod.csv',\n",
    "\n",
    "y_path='https://raw.githubusercontent.com/msaricaumbc/DS_data/master/ds602/final4/employee_departure_dataset_y_prod.csv'"
   ]
  },
  {
   "cell_type": "code",
   "execution_count": null,
   "id": "4c1ed6c3-8c61-4b76-8878-319fd3f84168",
   "metadata": {},
   "outputs": [],
   "source": [
    "with open('final_model.pkl', 'rb') as model_file:\n",
    "    loaded_model = pickle.load(model_file)\n",
    "print(\"Model loaded successfully.\")\n",
    "\n",
    "savedmodel_predictions = loaded_model.predict(X)\n",
    "savedmodel_probabilities = loaded_model.predict_proba(X)[:, 1]  # Probabilities of class \"1\" (Left)\n",
    "\n",
    "print(\"Pickle Model [BAGGING] Classification Report:\")\n",
    "print(classification_report(y, savedmodel_predictions))"
   ]
  },
  {
   "cell_type": "code",
   "execution_count": null,
   "id": "2d503255-e1f9-4721-94f7-0568e6f98b83",
   "metadata": {},
   "outputs": [],
   "source": [
    "from sklearn.metrics import confusion_matrix\n",
    "import seaborn as sns\n",
    "import matplotlib.pyplot as plt\n",
    "\n",
    "conf_matrix = confusion_matrix(y, savedmodel_predictions)\n",
    "#plt.figure(figsize=(6, 6))\n",
    "sns.heatmap(conf_matrix, annot=True, fmt='d', cmap='Blues', xticklabels=['Stayed', 'Left'], yticklabels=['Stayed', 'Left'])\n",
    "plt.title(\"Confusion Matrix\")\n",
    "plt.xlabel(\"Predicted\")\n",
    "plt.ylabel(\"Actual\")\n",
    "plt.show()"
   ]
  },
  {
   "cell_type": "code",
   "execution_count": null,
   "id": "e47ed5f7-3490-4694-bb0b-8c5a027fa2c4",
   "metadata": {},
   "outputs": [],
   "source": [
    "from sklearn.metrics import roc_curve, auc\n",
    "\n",
    "fpr, tpr, thresholds = roc_curve(y, savedmodel_probabilities)\n",
    "roc_auc = auc(fpr, tpr)\n",
    "\n",
    "#plt.figure(figsize=(8, 6))\n",
    "plt.plot(fpr, tpr, color='blue', lw=2, label=f'ROC Curve (AUC = {roc_auc:.2f})')\n",
    "plt.plot([0, 1], [0, 1], color='gray', linestyle='--')\n",
    "plt.title(\"Receiver Operating Characteristic (ROC) Curve\")\n",
    "plt.xlabel(\"False Positive Rate\")\n",
    "plt.ylabel(\"True Positive Rate\")\n",
    "plt.legend(loc=\"lower right\")\n",
    "plt.show()"
   ]
  }
 ],
 "metadata": {
  "kernelspec": {
   "display_name": "Python 3 (ipykernel)",
   "language": "python",
   "name": "python3"
  },
  "language_info": {
   "codemirror_mode": {
    "name": "ipython",
    "version": 3
   },
   "file_extension": ".py",
   "mimetype": "text/x-python",
   "name": "python",
   "nbconvert_exporter": "python",
   "pygments_lexer": "ipython3",
   "version": "3.9.7"
  }
 },
 "nbformat": 4,
 "nbformat_minor": 5
}
